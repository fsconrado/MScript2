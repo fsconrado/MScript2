{
  "nbformat": 4,
  "nbformat_minor": 0,
  "metadata": {
    "colab": {
      "name": "Algoritmo_Mestrado_Conrado_DefinitivoV2(OnlyBiomarcadores).ipynb",
      "provenance": [],
      "collapsed_sections": [
        "7weV3Bth3o_-",
        "H3BuxkaKzWCx",
        "GxNIeiRc38K-",
        "XxgyPNGX3ylI",
        "eGoD2mIZ2fLc",
        "ZAjK5orIOw9k"
      ],
      "include_colab_link": true
    },
    "kernelspec": {
      "name": "python3",
      "display_name": "Python 3"
    },
    "language_info": {
      "name": "python"
    }
  },
  "cells": [
    {
      "cell_type": "markdown",
      "metadata": {
        "id": "view-in-github",
        "colab_type": "text"
      },
      "source": [
        "<a href=\"https://colab.research.google.com/github/fsconrado/MScript2/blob/main/Algoritmo_Mestrado_Conrado_DefinitivoV2(OnlyBiomarcadores).ipynb\" target=\"_parent\"><img src=\"https://colab.research.google.com/assets/colab-badge.svg\" alt=\"Open In Colab\"/></a>"
      ]
    },
    {
      "cell_type": "markdown",
      "source": [
        "---\n",
        "# **Cenário 1:**{ Somente os Biomarcadores | Dados Não balanceados}\n",
        "---"
      ],
      "metadata": {
        "id": "poyABXAWDQX5"
      }
    },
    {
      "cell_type": "markdown",
      "source": [
        "# **Visão dos Dados"
      ],
      "metadata": {
        "id": "7weV3Bth3o_-"
      }
    },
    {
      "cell_type": "code",
      "execution_count": 871,
      "metadata": {
        "id": "S823WBu63iBQ"
      },
      "outputs": [],
      "source": [
        "#1. IMPORTAR O DATASET (COLUNAS IMPORTANTES: AGE, SEX, LYVE1, REG1B, TFF1 ==> ALVO PREVER A COLUNA STAGE.3)\n",
        "#!pip install plotly --upgrade\n",
        "#Baixar os dados e jogar na variável DADOS\n",
        "import pandas as pd\n",
        "\n",
        "dados = pd.read_csv(\"dataMODIFICADOv10F.csv\", sep=\",\")\n",
        "dados = dados.fillna(1, inplace= False)\n",
        "# 16 colunas\n"
      ]
    },
    {
      "cell_type": "code",
      "source": [
        "dados"
      ],
      "metadata": {
        "colab": {
          "base_uri": "https://localhost:8080/",
          "height": 488
        },
        "id": "MLSQ8HYU4K8i",
        "outputId": "70e08fe4-8a74-44b6-e733-6e1432c753cf"
      },
      "execution_count": 872,
      "outputs": [
        {
          "output_type": "execute_result",
          "data": {
            "text/plain": [
              "    sample_id patient_cohort sample_origin  diagnosis stage sex  age  \\\n",
              "0        S497        Cohort1           ESP          3     I   F   81   \n",
              "1        S456        Cohort1           LIV          3    IA   M   57   \n",
              "2        S520        Cohort1          BPTB          3    IA   M   55   \n",
              "3        S573        Cohort2          BPTB          3    IA   M   58   \n",
              "4        S401        Cohort1           LIV          3    IB   M   73   \n",
              "..        ...            ...           ...        ...   ...  ..  ...   \n",
              "194      S549        Cohort2          BPTB          3    IV   M   68   \n",
              "195      S558        Cohort2          BPTB          3    IV   F   71   \n",
              "196      S560        Cohort2          BPTB          3    IV   M   63   \n",
              "197      S583        Cohort2          BPTB          3    IV   F   75   \n",
              "198      S590        Cohort1          BPTB          3    IV   M   74   \n",
              "\n",
              "         LYVE1       REG1B         TFF1  creatinine  plasma_CA19_9      REG1A  \\\n",
              "0    12.017150  431.422530   874.099700     0.56550            1.0      1.000   \n",
              "1     2.628425   40.620818   529.984000     1.73043           10.0    155.270   \n",
              "2     2.830541   33.406150   323.175770     0.47502           11.0    210.185   \n",
              "3     0.632433  188.253000   138.630000     0.44109           11.0      1.000   \n",
              "4    12.245820  196.921830  1529.183124     0.70122         3236.0    432.917   \n",
              "..         ...         ...          ...         ...            ...        ...   \n",
              "194   7.058209  156.241000   525.178000     0.52026            1.0      1.000   \n",
              "195   8.341207   16.915000   245.947000     0.85956            1.0      1.000   \n",
              "196   7.674707  289.701000   537.286000     1.36851            1.0      1.000   \n",
              "197   8.206777  205.930000   722.523000     1.33458            1.0      1.000   \n",
              "198   8.200958  411.938275  2021.321078     1.50423         1488.0  13200.000   \n",
              "\n",
              "    stage2  \n",
              "0        I  \n",
              "1        I  \n",
              "2        I  \n",
              "3        I  \n",
              "4        I  \n",
              "..     ...  \n",
              "194     IV  \n",
              "195     IV  \n",
              "196     IV  \n",
              "197     IV  \n",
              "198     IV  \n",
              "\n",
              "[199 rows x 14 columns]"
            ],
            "text/html": [
              "\n",
              "  <div id=\"df-54d2361e-cd44-4a64-9bad-e4ad4550a65e\">\n",
              "    <div class=\"colab-df-container\">\n",
              "      <div>\n",
              "<style scoped>\n",
              "    .dataframe tbody tr th:only-of-type {\n",
              "        vertical-align: middle;\n",
              "    }\n",
              "\n",
              "    .dataframe tbody tr th {\n",
              "        vertical-align: top;\n",
              "    }\n",
              "\n",
              "    .dataframe thead th {\n",
              "        text-align: right;\n",
              "    }\n",
              "</style>\n",
              "<table border=\"1\" class=\"dataframe\">\n",
              "  <thead>\n",
              "    <tr style=\"text-align: right;\">\n",
              "      <th></th>\n",
              "      <th>sample_id</th>\n",
              "      <th>patient_cohort</th>\n",
              "      <th>sample_origin</th>\n",
              "      <th>diagnosis</th>\n",
              "      <th>stage</th>\n",
              "      <th>sex</th>\n",
              "      <th>age</th>\n",
              "      <th>LYVE1</th>\n",
              "      <th>REG1B</th>\n",
              "      <th>TFF1</th>\n",
              "      <th>creatinine</th>\n",
              "      <th>plasma_CA19_9</th>\n",
              "      <th>REG1A</th>\n",
              "      <th>stage2</th>\n",
              "    </tr>\n",
              "  </thead>\n",
              "  <tbody>\n",
              "    <tr>\n",
              "      <th>0</th>\n",
              "      <td>S497</td>\n",
              "      <td>Cohort1</td>\n",
              "      <td>ESP</td>\n",
              "      <td>3</td>\n",
              "      <td>I</td>\n",
              "      <td>F</td>\n",
              "      <td>81</td>\n",
              "      <td>12.017150</td>\n",
              "      <td>431.422530</td>\n",
              "      <td>874.099700</td>\n",
              "      <td>0.56550</td>\n",
              "      <td>1.0</td>\n",
              "      <td>1.000</td>\n",
              "      <td>I</td>\n",
              "    </tr>\n",
              "    <tr>\n",
              "      <th>1</th>\n",
              "      <td>S456</td>\n",
              "      <td>Cohort1</td>\n",
              "      <td>LIV</td>\n",
              "      <td>3</td>\n",
              "      <td>IA</td>\n",
              "      <td>M</td>\n",
              "      <td>57</td>\n",
              "      <td>2.628425</td>\n",
              "      <td>40.620818</td>\n",
              "      <td>529.984000</td>\n",
              "      <td>1.73043</td>\n",
              "      <td>10.0</td>\n",
              "      <td>155.270</td>\n",
              "      <td>I</td>\n",
              "    </tr>\n",
              "    <tr>\n",
              "      <th>2</th>\n",
              "      <td>S520</td>\n",
              "      <td>Cohort1</td>\n",
              "      <td>BPTB</td>\n",
              "      <td>3</td>\n",
              "      <td>IA</td>\n",
              "      <td>M</td>\n",
              "      <td>55</td>\n",
              "      <td>2.830541</td>\n",
              "      <td>33.406150</td>\n",
              "      <td>323.175770</td>\n",
              "      <td>0.47502</td>\n",
              "      <td>11.0</td>\n",
              "      <td>210.185</td>\n",
              "      <td>I</td>\n",
              "    </tr>\n",
              "    <tr>\n",
              "      <th>3</th>\n",
              "      <td>S573</td>\n",
              "      <td>Cohort2</td>\n",
              "      <td>BPTB</td>\n",
              "      <td>3</td>\n",
              "      <td>IA</td>\n",
              "      <td>M</td>\n",
              "      <td>58</td>\n",
              "      <td>0.632433</td>\n",
              "      <td>188.253000</td>\n",
              "      <td>138.630000</td>\n",
              "      <td>0.44109</td>\n",
              "      <td>11.0</td>\n",
              "      <td>1.000</td>\n",
              "      <td>I</td>\n",
              "    </tr>\n",
              "    <tr>\n",
              "      <th>4</th>\n",
              "      <td>S401</td>\n",
              "      <td>Cohort1</td>\n",
              "      <td>LIV</td>\n",
              "      <td>3</td>\n",
              "      <td>IB</td>\n",
              "      <td>M</td>\n",
              "      <td>73</td>\n",
              "      <td>12.245820</td>\n",
              "      <td>196.921830</td>\n",
              "      <td>1529.183124</td>\n",
              "      <td>0.70122</td>\n",
              "      <td>3236.0</td>\n",
              "      <td>432.917</td>\n",
              "      <td>I</td>\n",
              "    </tr>\n",
              "    <tr>\n",
              "      <th>...</th>\n",
              "      <td>...</td>\n",
              "      <td>...</td>\n",
              "      <td>...</td>\n",
              "      <td>...</td>\n",
              "      <td>...</td>\n",
              "      <td>...</td>\n",
              "      <td>...</td>\n",
              "      <td>...</td>\n",
              "      <td>...</td>\n",
              "      <td>...</td>\n",
              "      <td>...</td>\n",
              "      <td>...</td>\n",
              "      <td>...</td>\n",
              "      <td>...</td>\n",
              "    </tr>\n",
              "    <tr>\n",
              "      <th>194</th>\n",
              "      <td>S549</td>\n",
              "      <td>Cohort2</td>\n",
              "      <td>BPTB</td>\n",
              "      <td>3</td>\n",
              "      <td>IV</td>\n",
              "      <td>M</td>\n",
              "      <td>68</td>\n",
              "      <td>7.058209</td>\n",
              "      <td>156.241000</td>\n",
              "      <td>525.178000</td>\n",
              "      <td>0.52026</td>\n",
              "      <td>1.0</td>\n",
              "      <td>1.000</td>\n",
              "      <td>IV</td>\n",
              "    </tr>\n",
              "    <tr>\n",
              "      <th>195</th>\n",
              "      <td>S558</td>\n",
              "      <td>Cohort2</td>\n",
              "      <td>BPTB</td>\n",
              "      <td>3</td>\n",
              "      <td>IV</td>\n",
              "      <td>F</td>\n",
              "      <td>71</td>\n",
              "      <td>8.341207</td>\n",
              "      <td>16.915000</td>\n",
              "      <td>245.947000</td>\n",
              "      <td>0.85956</td>\n",
              "      <td>1.0</td>\n",
              "      <td>1.000</td>\n",
              "      <td>IV</td>\n",
              "    </tr>\n",
              "    <tr>\n",
              "      <th>196</th>\n",
              "      <td>S560</td>\n",
              "      <td>Cohort2</td>\n",
              "      <td>BPTB</td>\n",
              "      <td>3</td>\n",
              "      <td>IV</td>\n",
              "      <td>M</td>\n",
              "      <td>63</td>\n",
              "      <td>7.674707</td>\n",
              "      <td>289.701000</td>\n",
              "      <td>537.286000</td>\n",
              "      <td>1.36851</td>\n",
              "      <td>1.0</td>\n",
              "      <td>1.000</td>\n",
              "      <td>IV</td>\n",
              "    </tr>\n",
              "    <tr>\n",
              "      <th>197</th>\n",
              "      <td>S583</td>\n",
              "      <td>Cohort2</td>\n",
              "      <td>BPTB</td>\n",
              "      <td>3</td>\n",
              "      <td>IV</td>\n",
              "      <td>F</td>\n",
              "      <td>75</td>\n",
              "      <td>8.206777</td>\n",
              "      <td>205.930000</td>\n",
              "      <td>722.523000</td>\n",
              "      <td>1.33458</td>\n",
              "      <td>1.0</td>\n",
              "      <td>1.000</td>\n",
              "      <td>IV</td>\n",
              "    </tr>\n",
              "    <tr>\n",
              "      <th>198</th>\n",
              "      <td>S590</td>\n",
              "      <td>Cohort1</td>\n",
              "      <td>BPTB</td>\n",
              "      <td>3</td>\n",
              "      <td>IV</td>\n",
              "      <td>M</td>\n",
              "      <td>74</td>\n",
              "      <td>8.200958</td>\n",
              "      <td>411.938275</td>\n",
              "      <td>2021.321078</td>\n",
              "      <td>1.50423</td>\n",
              "      <td>1488.0</td>\n",
              "      <td>13200.000</td>\n",
              "      <td>IV</td>\n",
              "    </tr>\n",
              "  </tbody>\n",
              "</table>\n",
              "<p>199 rows × 14 columns</p>\n",
              "</div>\n",
              "      <button class=\"colab-df-convert\" onclick=\"convertToInteractive('df-54d2361e-cd44-4a64-9bad-e4ad4550a65e')\"\n",
              "              title=\"Convert this dataframe to an interactive table.\"\n",
              "              style=\"display:none;\">\n",
              "        \n",
              "  <svg xmlns=\"http://www.w3.org/2000/svg\" height=\"24px\"viewBox=\"0 0 24 24\"\n",
              "       width=\"24px\">\n",
              "    <path d=\"M0 0h24v24H0V0z\" fill=\"none\"/>\n",
              "    <path d=\"M18.56 5.44l.94 2.06.94-2.06 2.06-.94-2.06-.94-.94-2.06-.94 2.06-2.06.94zm-11 1L8.5 8.5l.94-2.06 2.06-.94-2.06-.94L8.5 2.5l-.94 2.06-2.06.94zm10 10l.94 2.06.94-2.06 2.06-.94-2.06-.94-.94-2.06-.94 2.06-2.06.94z\"/><path d=\"M17.41 7.96l-1.37-1.37c-.4-.4-.92-.59-1.43-.59-.52 0-1.04.2-1.43.59L10.3 9.45l-7.72 7.72c-.78.78-.78 2.05 0 2.83L4 21.41c.39.39.9.59 1.41.59.51 0 1.02-.2 1.41-.59l7.78-7.78 2.81-2.81c.8-.78.8-2.07 0-2.86zM5.41 20L4 18.59l7.72-7.72 1.47 1.35L5.41 20z\"/>\n",
              "  </svg>\n",
              "      </button>\n",
              "      \n",
              "  <style>\n",
              "    .colab-df-container {\n",
              "      display:flex;\n",
              "      flex-wrap:wrap;\n",
              "      gap: 12px;\n",
              "    }\n",
              "\n",
              "    .colab-df-convert {\n",
              "      background-color: #E8F0FE;\n",
              "      border: none;\n",
              "      border-radius: 50%;\n",
              "      cursor: pointer;\n",
              "      display: none;\n",
              "      fill: #1967D2;\n",
              "      height: 32px;\n",
              "      padding: 0 0 0 0;\n",
              "      width: 32px;\n",
              "    }\n",
              "\n",
              "    .colab-df-convert:hover {\n",
              "      background-color: #E2EBFA;\n",
              "      box-shadow: 0px 1px 2px rgba(60, 64, 67, 0.3), 0px 1px 3px 1px rgba(60, 64, 67, 0.15);\n",
              "      fill: #174EA6;\n",
              "    }\n",
              "\n",
              "    [theme=dark] .colab-df-convert {\n",
              "      background-color: #3B4455;\n",
              "      fill: #D2E3FC;\n",
              "    }\n",
              "\n",
              "    [theme=dark] .colab-df-convert:hover {\n",
              "      background-color: #434B5C;\n",
              "      box-shadow: 0px 1px 3px 1px rgba(0, 0, 0, 0.15);\n",
              "      filter: drop-shadow(0px 1px 2px rgba(0, 0, 0, 0.3));\n",
              "      fill: #FFFFFF;\n",
              "    }\n",
              "  </style>\n",
              "\n",
              "      <script>\n",
              "        const buttonEl =\n",
              "          document.querySelector('#df-54d2361e-cd44-4a64-9bad-e4ad4550a65e button.colab-df-convert');\n",
              "        buttonEl.style.display =\n",
              "          google.colab.kernel.accessAllowed ? 'block' : 'none';\n",
              "\n",
              "        async function convertToInteractive(key) {\n",
              "          const element = document.querySelector('#df-54d2361e-cd44-4a64-9bad-e4ad4550a65e');\n",
              "          const dataTable =\n",
              "            await google.colab.kernel.invokeFunction('convertToInteractive',\n",
              "                                                     [key], {});\n",
              "          if (!dataTable) return;\n",
              "\n",
              "          const docLinkHtml = 'Like what you see? Visit the ' +\n",
              "            '<a target=\"_blank\" href=https://colab.research.google.com/notebooks/data_table.ipynb>data table notebook</a>'\n",
              "            + ' to learn more about interactive tables.';\n",
              "          element.innerHTML = '';\n",
              "          dataTable['output_type'] = 'display_data';\n",
              "          await google.colab.output.renderOutput(dataTable, element);\n",
              "          const docLink = document.createElement('div');\n",
              "          docLink.innerHTML = docLinkHtml;\n",
              "          element.appendChild(docLink);\n",
              "        }\n",
              "      </script>\n",
              "    </div>\n",
              "  </div>\n",
              "  "
            ]
          },
          "metadata": {},
          "execution_count": 872
        }
      ]
    },
    {
      "cell_type": "code",
      "source": [
        "#Avaliar o número de amostras para cada classe(estadiamento)\n",
        "import numpy as np\n",
        "np.unique(dados['stage2'], return_counts = True)"
      ],
      "metadata": {
        "colab": {
          "base_uri": "https://localhost:8080/"
        },
        "id": "_rDad23J4nVK",
        "outputId": "2b489957-d6be-427c-9b35-bc1df7ab23bd"
      },
      "execution_count": 873,
      "outputs": [
        {
          "output_type": "execute_result",
          "data": {
            "text/plain": [
              "(array(['I', 'II', 'III', 'IV'], dtype=object), array([16, 86, 76, 21]))"
            ]
          },
          "metadata": {},
          "execution_count": 873
        }
      ]
    },
    {
      "cell_type": "code",
      "source": [
        "#Gerar um gráfico para avaliar visualmente o número de amostras para cada classe, objetivo é avaliar se os dados estão balanceados.\n",
        "import seaborn as sns\n",
        "sns.countplot(x = dados['stage2']);"
      ],
      "metadata": {
        "colab": {
          "base_uri": "https://localhost:8080/",
          "height": 361
        },
        "id": "mPaQPJPb7p1U",
        "outputId": "2dac9271-cc62-4566-960a-497989eb1158"
      },
      "execution_count": 874,
      "outputs": [
        {
          "output_type": "display_data",
          "data": {
            "text/plain": [
              "<Figure size 576x396 with 1 Axes>"
            ],
            "image/png": "[encoded data removed]"
          },
          "metadata": {}
        }
      ]
    },
    {
      "cell_type": "markdown",
      "source": [],
      "metadata": {
        "id": "la28hBmX4DWV"
      }
    },
    {
      "cell_type": "markdown",
      "source": [
        "# **C1-01. KnnClassifier**{*Unbalanced*} => 0.35"
      ],
      "metadata": {
        "id": "H3BuxkaKzWCx"
      }
    },
    {
      "cell_type": "code",
      "source": [
        "#PREPARAR OS DADOS ==> Importar e tratar os dados\n",
        "import pandas as pd\n",
        "\n",
        "# Importando o Arquivo\n",
        "dados = pd.read_csv(\"dataMODIFICADOv10F.csv\", sep=\",\")\n",
        "\n",
        "#Transformando os nulos para 0\n",
        "dados = dados.fillna(1, inplace= False) \n",
        "\n",
        "#Separando as variaveis de interesse | LYVE1\tREG1B\tTFF1\n",
        "X_dados = dados.iloc[:,7:13].values\n",
        "X_dados\n",
        "\n",
        "#Separando a classe alvo | stage2\n",
        "y_dados = dados.iloc[:,13].values\n",
        "y_dados\n",
        "\n",
        "# Tratando as colunas que São rotulos | sex\n",
        "from sklearn.preprocessing import LabelEncoder\n",
        "\n",
        "#label_encoder_sex = LabelEncoder()\n",
        "#X_dados[:,0] = label_encoder_sex.fit_transform(X_dados[:,0])\n",
        "#X_dados\n",
        "\n",
        "#Onehot\n",
        "#from sklearn.preprocessing import OneHotEncoder\n",
        "#from sklearn.compose import ColumnTransformer\n",
        "\n",
        "#onehotencorder = ColumnTransformer(transformers=[(\"OneHot\", OneHotEncoder(), [0])],remainder='passthrough')\n",
        "#X_dados = onehotencorder.fit_transform(X_dados)\n",
        "#X_dados\n",
        "\n",
        "#ESCALONAMENTO DE ATRIBUTOS\n",
        "from sklearn.preprocessing import StandardScaler\n",
        "scaler_dados = StandardScaler() #(with_mean=False)\n",
        "X_dados = scaler_dados.fit_transform(X_dados)\n",
        "\n",
        "\n",
        "#Separação dos dados SEM o balanceamento\n",
        "from sklearn.model_selection import train_test_split\n",
        "\n",
        "X_dados_train , X_dados_test, y_dados_train, y_dados_test = train_test_split(X_dados, y_dados, test_size=0.2, random_state=0)\n",
        "X_dados_train.shape, X_dados_test.shape\n"
      ],
      "metadata": {
        "colab": {
          "base_uri": "https://localhost:8080/"
        },
        "id": "Vvp9U02RnAoZ",
        "outputId": "81f62a46-e555-4109-cd7a-f8cbf5ba1b4b"
      },
      "execution_count": 875,
      "outputs": [
        {
          "output_type": "execute_result",
          "data": {
            "text/plain": [
              "((159, 6), (40, 6))"
            ]
          },
          "metadata": {},
          "execution_count": 875
        }
      ]
    },
    {
      "cell_type": "code",
      "source": [
        "#KNN CLASSIFICADOR\n",
        "from sklearn.neighbors import KNeighborsClassifier\n",
        "from sklearn.metrics import classification_report, confusion_matrix,plot_confusion_matrix\n",
        "from sklearn.preprocessing import StandardScaler"
      ],
      "metadata": {
        "id": "ZuMKk6VIzYyS"
      },
      "execution_count": 876,
      "outputs": []
    },
    {
      "cell_type": "code",
      "source": [
        "#knn_modelc = KNeighborsClassifier(n_neighbors=5, metric='euclidean', p = 2)\n",
        "knn_modelc = KNeighborsClassifier(n_neighbors=5, metric='minkowski', p = 2)\n",
        "\n",
        "knn_modelc.fit(X_dados_train, y_dados_train)"
      ],
      "metadata": {
        "colab": {
          "base_uri": "https://localhost:8080/"
        },
        "id": "SSg6zZ8h11mN",
        "outputId": "3108f571-09c0-434c-ee4b-f59f49788ff4"
      },
      "execution_count": 877,
      "outputs": [
        {
          "output_type": "execute_result",
          "data": {
            "text/plain": [
              "KNeighborsClassifier()"
            ]
          },
          "metadata": {},
          "execution_count": 877
        }
      ]
    },
    {
      "cell_type": "code",
      "source": [
        "previsoes = knn_modelc.predict(X_dados_test)\n",
        "previsoes"
      ],
      "metadata": {
        "colab": {
          "base_uri": "https://localhost:8080/"
        },
        "id": "GOeek73n2Bvn",
        "outputId": "cab1990f-f93b-4a47-f47a-efb3259ddd39"
      },
      "execution_count": 878,
      "outputs": [
        {
          "output_type": "execute_result",
          "data": {
            "text/plain": [
              "array(['II', 'II', 'II', 'III', 'II', 'II', 'II', 'III', 'I', 'II', 'III',\n",
              "       'II', 'II', 'III', 'II', 'I', 'II', 'II', 'III', 'III', 'I', 'II',\n",
              "       'II', 'II', 'II', 'III', 'II', 'II', 'II', 'III', 'II', 'II',\n",
              "       'III', 'II', 'III', 'II', 'II', 'II', 'III', 'II'], dtype=object)"
            ]
          },
          "metadata": {},
          "execution_count": 878
        }
      ]
    },
    {
      "cell_type": "code",
      "source": [
        "y_dados_test"
      ],
      "metadata": {
        "colab": {
          "base_uri": "https://localhost:8080/"
        },
        "id": "xqMsiFQe2HUp",
        "outputId": "b8a64441-439d-43fa-d895-edb04f74dc23"
      },
      "execution_count": 879,
      "outputs": [
        {
          "output_type": "execute_result",
          "data": {
            "text/plain": [
              "array(['II', 'III', 'III', 'II', 'III', 'IV', 'I', 'III', 'I', 'III',\n",
              "       'II', 'III', 'III', 'III', 'II', 'I', 'II', 'III', 'II', 'II',\n",
              "       'III', 'III', 'II', 'III', 'II', 'III', 'IV', 'IV', 'II', 'II',\n",
              "       'II', 'II', 'II', 'III', 'II', 'IV', 'III', 'I', 'III', 'IV'],\n",
              "      dtype=object)"
            ]
          },
          "metadata": {},
          "execution_count": 879
        }
      ]
    },
    {
      "cell_type": "code",
      "source": [
        "from sklearn.metrics import accuracy_score, classification_report\n",
        "accuracy_score(y_dados_test, previsoes) # padronização"
      ],
      "metadata": {
        "colab": {
          "base_uri": "https://localhost:8080/"
        },
        "id": "quZRHK2u2bLa",
        "outputId": "d2f9e2cf-bf8d-4fa3-add5-ab632aa1f486"
      },
      "execution_count": 880,
      "outputs": [
        {
          "output_type": "execute_result",
          "data": {
            "text/plain": [
              "0.35"
            ]
          },
          "metadata": {},
          "execution_count": 880
        }
      ]
    },
    {
      "cell_type": "code",
      "source": [
        "from yellowbrick.classifier import ConfusionMatrix\n",
        "cm = ConfusionMatrix(knn_modelc)\n",
        "cm.fit(X_dados_train, y_dados_train)\n",
        "cm.score(X_dados_test, y_dados_test)"
      ],
      "metadata": {
        "colab": {
          "base_uri": "https://localhost:8080/",
          "height": 365
        },
        "id": "B_83NeoZ2hqy",
        "outputId": "f0067f9e-fd8a-4f93-a1b5-640b1385fcab"
      },
      "execution_count": 881,
      "outputs": [
        {
          "output_type": "execute_result",
          "data": {
            "text/plain": [
              "0.35"
            ]
          },
          "metadata": {},
          "execution_count": 881
        },
        {
          "output_type": "display_data",
          "data": {
            "text/plain": [
              "<Figure size 576x396 with 1 Axes>"
            ],
            "image/png": "[encoded data removed]"
          },
          "metadata": {}
        }
      ]
    },
    {
      "cell_type": "code",
      "source": [
        "print(classification_report(y_dados_test, previsoes))"
      ],
      "metadata": {
        "colab": {
          "base_uri": "https://localhost:8080/"
        },
        "id": "oR39rip5M1l7",
        "outputId": "c04b8bdc-235e-4291-8fbe-b26d32791ddc"
      },
      "execution_count": 882,
      "outputs": [
        {
          "output_type": "stream",
          "name": "stdout",
          "text": [
            "              precision    recall  f1-score   support\n",
            "\n",
            "           I       0.67      0.50      0.57         4\n",
            "          II       0.31      0.53      0.39        15\n",
            "         III       0.36      0.25      0.30        16\n",
            "          IV       0.00      0.00      0.00         5\n",
            "\n",
            "    accuracy                           0.35        40\n",
            "   macro avg       0.33      0.32      0.31        40\n",
            "weighted avg       0.33      0.35      0.32        40\n",
            "\n"
          ]
        },
        {
          "output_type": "stream",
          "name": "stderr",
          "text": [
            "/usr/local/lib/python3.7/dist-packages/sklearn/metrics/_classification.py:1318: UndefinedMetricWarning:\n",
            "\n",
            "Precision and F-score are ill-defined and being set to 0.0 in labels with no predicted samples. Use `zero_division` parameter to control this behavior.\n",
            "\n",
            "/usr/local/lib/python3.7/dist-packages/sklearn/metrics/_classification.py:1318: UndefinedMetricWarning:\n",
            "\n",
            "Precision and F-score are ill-defined and being set to 0.0 in labels with no predicted samples. Use `zero_division` parameter to control this behavior.\n",
            "\n",
            "/usr/local/lib/python3.7/dist-packages/sklearn/metrics/_classification.py:1318: UndefinedMetricWarning:\n",
            "\n",
            "Precision and F-score are ill-defined and being set to 0.0 in labels with no predicted samples. Use `zero_division` parameter to control this behavior.\n",
            "\n"
          ]
        }
      ]
    },
    {
      "cell_type": "markdown",
      "source": [
        "# **C1-02. RandomForestClassifier**{*Unbalanced*} => 0.475"
      ],
      "metadata": {
        "id": "FCedH6fgrYrl"
      }
    },
    {
      "cell_type": "code",
      "source": [
        "#PREPARAR OS DADOS ==> Importar e tratar os dados\n",
        "import pandas as pd\n",
        "\n",
        "# Importando o Arquivo\n",
        "dados = pd.read_csv(\"dataMODIFICADOv10F.csv\", sep=\",\")\n",
        "\n",
        "#Transformando os nulos para 0\n",
        "dados = dados.fillna(1, inplace= False) \n",
        "\n",
        "#Separando as variaveis de interesse | sex\tage\tLYVE1\tREG1B\tTFF1\tcreatinine\tplasma_CA19_9\tREG1A\t\n",
        "X_dados = dados.iloc[:,7:13].values\n",
        "X_dados \n",
        "\n",
        "#Separando a classe alvo | stage2\n",
        "y_dados = dados.iloc[:,13].values\n",
        "y_dados\n",
        "\n",
        "# Tratando as colunas que São rotulos | sex\n",
        "from sklearn.preprocessing import LabelEncoder\n",
        "\n",
        "#label_encoder_sex = LabelEncoder()\n",
        "#X_dados[:,0] = label_encoder_sex.fit_transform(X_dados[:,0])\n",
        "#X_dados\n",
        "\n",
        "#Onehot\n",
        "from sklearn.preprocessing import OneHotEncoder\n",
        "from sklearn.compose import ColumnTransformer\n",
        "\n",
        "#onehotencorder = ColumnTransformer(transformers=[(\"OneHot\", OneHotEncoder(), [0])],remainder='passthrough')\n",
        "#X_dados = onehotencorder.fit_transform(X_dados)\n",
        "#X_dados\n",
        "\n",
        "#ESCALONAMENTO DE ATRIBUTOS\n",
        "from sklearn.preprocessing import StandardScaler\n",
        "scaler_dados = StandardScaler() #(with_mean=False)\n",
        "X_dados = scaler_dados.fit_transform(X_dados)\n",
        "\n",
        "\n",
        "\n",
        "#Separação dos dados SEM o balanceamento\n",
        "from sklearn.model_selection import train_test_split\n",
        "\n",
        "X_dados_train , X_dados_test, y_dados_train, y_dados_test = train_test_split(X_dados, y_dados, test_size=0.2, random_state=0)\n",
        "X_dados_train.shape, X_dados_test.shape\n",
        "X_random_forest_dados_sb_teste = X_dados_test\n",
        "y_random_forest_dados_sb_teste = y_dados_test"
      ],
      "metadata": {
        "id": "3HHihyrfzx_2"
      },
      "execution_count": 883,
      "outputs": []
    },
    {
      "cell_type": "code",
      "source": [
        "#RANDOM FOREST CLASSIFIER\n",
        "\n",
        "from sklearn.ensemble import RandomForestClassifier\n",
        "random_forest_dados_sb = RandomForestClassifier(criterion = 'entropy', min_samples_leaf =  1, min_samples_split = 5, n_estimators = 200, random_state=0)\n",
        "random_forest_dados_sb.fit(X_dados_train, y_dados_train)\n"
      ],
      "metadata": {
        "colab": {
          "base_uri": "https://localhost:8080/"
        },
        "id": "wy4wTtNjpddq",
        "outputId": "c2ca6eeb-4769-4b29-9818-9923a36a4f7b"
      },
      "execution_count": 884,
      "outputs": [
        {
          "output_type": "execute_result",
          "data": {
            "text/plain": [
              "RandomForestClassifier(criterion='entropy', min_samples_split=5,\n",
              "                       n_estimators=200, random_state=0)"
            ]
          },
          "metadata": {},
          "execution_count": 884
        }
      ]
    },
    {
      "cell_type": "code",
      "source": [
        "from sklearn.metrics import accuracy_score, classification_report\n",
        "previsoes = random_forest_dados_sb.predict(X_dados_test)\n",
        "accuracy_score(y_dados_test, previsoes)"
      ],
      "metadata": {
        "colab": {
          "base_uri": "https://localhost:8080/"
        },
        "id": "9aSjYsgjpfnq",
        "outputId": "a45228cb-be84-44ed-af23-5eafa5bb0ce3"
      },
      "execution_count": 885,
      "outputs": [
        {
          "output_type": "execute_result",
          "data": {
            "text/plain": [
              "0.475"
            ]
          },
          "metadata": {},
          "execution_count": 885
        }
      ]
    },
    {
      "cell_type": "code",
      "source": [
        "from yellowbrick.classifier import ConfusionMatrix\n",
        "cm = ConfusionMatrix(random_forest_dados_sb)\n",
        "cm.fit(X_dados_train, y_dados_train)\n",
        "cm.score(X_dados_test, y_dados_test)"
      ],
      "metadata": {
        "colab": {
          "base_uri": "https://localhost:8080/",
          "height": 365
        },
        "id": "eHgFQP97OXd1",
        "outputId": "ad6b2007-5b0c-4e51-e6e2-1c535a51bbd9"
      },
      "execution_count": 886,
      "outputs": [
        {
          "output_type": "execute_result",
          "data": {
            "text/plain": [
              "0.475"
            ]
          },
          "metadata": {},
          "execution_count": 886
        },
        {
          "output_type": "display_data",
          "data": {
            "text/plain": [
              "<Figure size 576x396 with 1 Axes>"
            ],
            "image/png": "[encoded data removed]"
          },
          "metadata": {}
        }
      ]
    },
    {
      "cell_type": "code",
      "source": [
        "print(classification_report(y_dados_test, previsoes))"
      ],
      "metadata": {
        "colab": {
          "base_uri": "https://localhost:8080/"
        },
        "id": "84lzPMPDrsyJ",
        "outputId": "43a5a228-4cd7-4bc3-9f48-ed3b232bf3c3"
      },
      "execution_count": 887,
      "outputs": [
        {
          "output_type": "stream",
          "name": "stdout",
          "text": [
            "              precision    recall  f1-score   support\n",
            "\n",
            "           I       0.25      0.25      0.25         4\n",
            "          II       0.45      0.67      0.54        15\n",
            "         III       0.55      0.38      0.44        16\n",
            "          IV       0.67      0.40      0.50         5\n",
            "\n",
            "    accuracy                           0.48        40\n",
            "   macro avg       0.48      0.42      0.43        40\n",
            "weighted avg       0.50      0.47      0.47        40\n",
            "\n"
          ]
        }
      ]
    },
    {
      "cell_type": "markdown",
      "source": [
        "# **C1-03. SVM**{Unbalanced} => *0.55*, liner, 1, 1"
      ],
      "metadata": {
        "id": "9yYjOsLxurKB"
      }
    },
    {
      "cell_type": "code",
      "source": [
        "#PREPARAR OS DADOS ==> Importar e tratar os dados\n",
        "import pandas as pd\n",
        "\n",
        "# Importando o Arquivo\n",
        "dados = pd.read_csv(\"dataMODIFICADOv10F.csv\", sep=\",\")\n",
        "\n",
        "#Transformando os nulos para 0\n",
        "dados = dados.fillna(1, inplace= False) \n",
        "\n",
        "#Separando as variaveis de interesse | sex\tage\tLYVE1\tREG1B\tTFF1\tcreatinine\tplasma_CA19_9\tREG1A\t\n",
        "X_dados = dados.iloc[:,7:13].values\n",
        "X_dados \n",
        "\n",
        "#Separando a classe alvo | stage2\n",
        "y_dados = dados.iloc[:,13].values\n",
        "y_dados\n",
        "\n",
        "# Tratando as colunas que São rotulos | sex\n",
        "from sklearn.preprocessing import LabelEncoder\n",
        "\n",
        "#label_encoder_sex = LabelEncoder()\n",
        "#X_dados[:,0] = label_encoder_sex.fit_transform(X_dados[:,0])\n",
        "#X_dados\n",
        "\n",
        "#Onehot\n",
        "from sklearn.preprocessing import OneHotEncoder\n",
        "from sklearn.compose import ColumnTransformer\n",
        "\n",
        "#onehotencorder = ColumnTransformer(transformers=[(\"OneHot\", OneHotEncoder(), [0])],remainder='passthrough')\n",
        "#X_dados = onehotencorder.fit_transform(X_dados)\n",
        "#X_dados\n",
        "\n",
        "#ESCALONAMENTO DE ATRIBUTOS\n",
        "from sklearn.preprocessing import StandardScaler\n",
        "scaler_dados = StandardScaler() #(with_mean=False)\n",
        "X_dados = scaler_dados.fit_transform(X_dados)\n",
        "\n",
        "\n",
        "#Separação dos dados SEM o balanceamento\n",
        "from sklearn.model_selection import train_test_split\n",
        "\n",
        "X_dados_train , X_dados_test, y_dados_train, y_dados_test = train_test_split(X_dados, y_dados, test_size=0.2, random_state=5)\n",
        "X_dados_train.shape, X_dados_test.shape\n"
      ],
      "metadata": {
        "colab": {
          "base_uri": "https://localhost:8080/"
        },
        "id": "bNOJjTeVuuQ9",
        "outputId": "cd443092-5abb-4d3e-f341-3b66d70cd4a9"
      },
      "execution_count": 888,
      "outputs": [
        {
          "output_type": "execute_result",
          "data": {
            "text/plain": [
              "((159, 6), (40, 6))"
            ]
          },
          "metadata": {},
          "execution_count": 888
        }
      ]
    },
    {
      "cell_type": "code",
      "source": [
        "from sklearn.svm import SVC\n"
      ],
      "metadata": {
        "id": "X9WUWevXu1Ji"
      },
      "execution_count": 889,
      "outputs": []
    },
    {
      "cell_type": "code",
      "source": [
        "svm_dados = SVC(kernel='linear', random_state=1, C = 1.0) # 2 -> 4\n",
        "svm_dados.fit(X_dados_train, y_dados_train)"
      ],
      "metadata": {
        "colab": {
          "base_uri": "https://localhost:8080/"
        },
        "id": "4KgOs8z5xRCy",
        "outputId": "5fb08ce3-45aa-4823-c021-36d3c8df9d5e"
      },
      "execution_count": 890,
      "outputs": [
        {
          "output_type": "execute_result",
          "data": {
            "text/plain": [
              "SVC(kernel='linear', random_state=1)"
            ]
          },
          "metadata": {},
          "execution_count": 890
        }
      ]
    },
    {
      "cell_type": "code",
      "source": [
        "previsoes = svm_dados.predict(X_dados_test)\n",
        "previsoes"
      ],
      "metadata": {
        "colab": {
          "base_uri": "https://localhost:8080/"
        },
        "id": "oQI1ExZNx1lg",
        "outputId": "d9003365-498f-470d-d161-138c5039400d"
      },
      "execution_count": 891,
      "outputs": [
        {
          "output_type": "execute_result",
          "data": {
            "text/plain": [
              "array(['II', 'II', 'II', 'II', 'III', 'III', 'II', 'II', 'III', 'II',\n",
              "       'III', 'II', 'II', 'II', 'II', 'II', 'II', 'II', 'III', 'II', 'II',\n",
              "       'II', 'III', 'III', 'II', 'II', 'II', 'III', 'II', 'II', 'II',\n",
              "       'II', 'II', 'II', 'III', 'II', 'II', 'III', 'III', 'II'],\n",
              "      dtype=object)"
            ]
          },
          "metadata": {},
          "execution_count": 891
        }
      ]
    },
    {
      "cell_type": "code",
      "source": [
        "y_dados_test"
      ],
      "metadata": {
        "colab": {
          "base_uri": "https://localhost:8080/"
        },
        "id": "g3v9ZM2cx75v",
        "outputId": "c9b4ff6f-d532-4912-f0d2-79de48d74bfd"
      },
      "execution_count": 892,
      "outputs": [
        {
          "output_type": "execute_result",
          "data": {
            "text/plain": [
              "array(['III', 'II', 'III', 'III', 'III', 'III', 'III', 'I', 'II', 'II',\n",
              "       'IV', 'II', 'II', 'II', 'II', 'III', 'I', 'II', 'III', 'III', 'IV',\n",
              "       'II', 'II', 'III', 'II', 'II', 'III', 'II', 'II', 'II', 'II',\n",
              "       'III', 'II', 'III', 'II', 'II', 'IV', 'III', 'III', 'II'],\n",
              "      dtype=object)"
            ]
          },
          "metadata": {},
          "execution_count": 892
        }
      ]
    },
    {
      "cell_type": "code",
      "source": [
        "from sklearn.metrics import accuracy_score, classification_report \n",
        "#0.575, liner, 1, 1 | 0.425, poly, 1, 1 | #0.475, sigmoid, 1, 1 | 0.425, rbf, 1, 1\n",
        "accuracy_score(y_dados_test, previsoes)"
      ],
      "metadata": {
        "colab": {
          "base_uri": "https://localhost:8080/"
        },
        "id": "zYhip2iXyXfx",
        "outputId": "18fc4b61-8358-492d-90ca-075b7f3a828f"
      },
      "execution_count": 893,
      "outputs": [
        {
          "output_type": "execute_result",
          "data": {
            "text/plain": [
              "0.55"
            ]
          },
          "metadata": {},
          "execution_count": 893
        }
      ]
    },
    {
      "cell_type": "code",
      "source": [
        "from yellowbrick.classifier import ConfusionMatrix\n",
        "cm = ConfusionMatrix(svm_dados)\n",
        "cm.fit(X_dados_train, y_dados_train)\n",
        "cm.score(X_dados_test, y_dados_test)"
      ],
      "metadata": {
        "colab": {
          "base_uri": "https://localhost:8080/",
          "height": 365
        },
        "id": "9UBNKPkfyphA",
        "outputId": "4d5a3467-37aa-48ab-b942-6d2fb8f8fa18"
      },
      "execution_count": 894,
      "outputs": [
        {
          "output_type": "execute_result",
          "data": {
            "text/plain": [
              "0.55"
            ]
          },
          "metadata": {},
          "execution_count": 894
        },
        {
          "output_type": "display_data",
          "data": {
            "text/plain": [
              "<Figure size 576x396 with 1 Axes>"
            ],
            "image/png": "[encoded data removed]"
          },
          "metadata": {}
        }
      ]
    },
    {
      "cell_type": "code",
      "source": [
        "print(classification_report(y_dados_test, previsoes))"
      ],
      "metadata": {
        "colab": {
          "base_uri": "https://localhost:8080/"
        },
        "id": "-eHUclVryrvL",
        "outputId": "28b05b18-90a6-4c75-8105-d44bc3a626e2"
      },
      "execution_count": 895,
      "outputs": [
        {
          "output_type": "stream",
          "name": "stdout",
          "text": [
            "              precision    recall  f1-score   support\n",
            "\n",
            "           I       0.00      0.00      0.00         2\n",
            "          II       0.55      0.80      0.65        20\n",
            "         III       0.55      0.40      0.46        15\n",
            "          IV       0.00      0.00      0.00         3\n",
            "\n",
            "    accuracy                           0.55        40\n",
            "   macro avg       0.27      0.30      0.28        40\n",
            "weighted avg       0.48      0.55      0.50        40\n",
            "\n"
          ]
        },
        {
          "output_type": "stream",
          "name": "stderr",
          "text": [
            "/usr/local/lib/python3.7/dist-packages/sklearn/metrics/_classification.py:1318: UndefinedMetricWarning:\n",
            "\n",
            "Precision and F-score are ill-defined and being set to 0.0 in labels with no predicted samples. Use `zero_division` parameter to control this behavior.\n",
            "\n",
            "/usr/local/lib/python3.7/dist-packages/sklearn/metrics/_classification.py:1318: UndefinedMetricWarning:\n",
            "\n",
            "Precision and F-score are ill-defined and being set to 0.0 in labels with no predicted samples. Use `zero_division` parameter to control this behavior.\n",
            "\n",
            "/usr/local/lib/python3.7/dist-packages/sklearn/metrics/_classification.py:1318: UndefinedMetricWarning:\n",
            "\n",
            "Precision and F-score are ill-defined and being set to 0.0 in labels with no predicted samples. Use `zero_division` parameter to control this behavior.\n",
            "\n"
          ]
        }
      ]
    },
    {
      "cell_type": "markdown",
      "source": [
        "---\n",
        "# **Cenário 2:**{ Somente os Biomarcadores | Dados Não balanceados}\n",
        "---"
      ],
      "metadata": {
        "id": "gXfSmwVFdgVq"
      }
    },
    {
      "cell_type": "markdown",
      "source": [
        "# **C2-01. KnnClassifier**{*Balanced*}0.623"
      ],
      "metadata": {
        "id": "GxNIeiRc38K-"
      }
    },
    {
      "cell_type": "code",
      "source": [
        "#PREPARAR OS DADOS ==> Importar e tratar os dados\n",
        "import pandas as pd\n",
        "\n",
        "# Importando o Arquivo\n",
        "dados = pd.read_csv(\"dataMODIFICADOv10F.csv\", sep=\",\")\n",
        "\n",
        "#Transformando os nulos para 0\n",
        "dados = dados.fillna(1, inplace= False) \n",
        "\n",
        "#Separando as variaveis de interesse | sex\tage\tLYVE1\tREG1B\tTFF1\tcreatinine\tplasma_CA19_9\tREG1A\t\n",
        "X_dados = dados.iloc[:,7:13].values\n",
        "X_dados \n",
        "\n",
        "#Separando a classe alvo | stage2\n",
        "y_dados = dados.iloc[:,13].values\n",
        "y_dados\n",
        "\n",
        "# Tratando as colunas que São rotulos | sex\n",
        "from sklearn.preprocessing import LabelEncoder\n",
        "\n",
        "#label_encoder_sex = LabelEncoder()\n",
        "#X_dados[:,0] = label_encoder_sex.fit_transform(X_dados[:,0])\n",
        "#X_dados\n",
        "\n",
        "# Sobreamostragem com SMOTE\n",
        "from imblearn.over_sampling import SMOTE\n",
        "import numpy as np\n",
        "\n",
        "smote = SMOTE(sampling_strategy='not majority', random_state=3)\n",
        "X_over, y_over = smote.fit_resample(X_dados, y_dados)\n",
        "\n",
        "#y_over.shape, X_over.shape\n",
        "np.unique(y_dados, return_counts = True), np.unique(y_over, return_counts = True)\n",
        "\n",
        "import seaborn as sns\n",
        "sns.countplot(x = y_over);\n",
        "\n",
        "#from sklearn.preprocessing import OneHotEncoder\n",
        "#from sklearn.compose import ColumnTransformer\n",
        "#onehotencorder = ColumnTransformer(transformers=[(\"OneHot\", OneHotEncoder(), [0])],remainder='passthrough')\n",
        "#X_dados = onehotencorder.fit_transform(X_over).toarray()\n",
        "X_dados = X_over # Se descomentar a linha de cima comentar essa.\n",
        "#X_dados, X_dados.shape\n",
        "\n",
        "#ESCALONAMENTO DE ATRIBUTOS\n",
        "from sklearn.preprocessing import StandardScaler\n",
        "scaler_dados = StandardScaler()\n",
        "X_dados = scaler_dados.fit_transform(X_dados)\n",
        "X_dados\n",
        "\n",
        "#Separação dos dados BALANCEADOS\n",
        "from sklearn.model_selection import train_test_split\n",
        "\n",
        "X_dados_train_over, X_dados_test_over, y_dados_train_over, y_dados_test_over = train_test_split(X_dados, y_over, test_size=0.2, random_state=0)\n",
        "X_dados_train_over.shape, X_dados_test_over.shape\n"
      ],
      "metadata": {
        "colab": {
          "base_uri": "https://localhost:8080/",
          "height": 364
        },
        "id": "CwwGe_q00-iH",
        "outputId": "89ab1aef-b4bc-46bd-84e1-b60cc5775752"
      },
      "execution_count": 896,
      "outputs": [
        {
          "output_type": "execute_result",
          "data": {
            "text/plain": [
              "((275, 6), (69, 6))"
            ]
          },
          "metadata": {},
          "execution_count": 896
        },
        {
          "output_type": "display_data",
          "data": {
            "text/plain": [
              "<Figure size 576x396 with 1 Axes>"
            ],
            "image/png": "[encoded data removed]"
          },
          "metadata": {}
        }
      ]
    },
    {
      "cell_type": "code",
      "source": [
        "#Knn Classifier Balanced\n",
        "\n",
        "from sklearn.neighbors import KNeighborsClassifier\n",
        "from sklearn.metrics import classification_report, confusion_matrix,plot_confusion_matrix\n",
        "from sklearn.preprocessing import StandardScaler"
      ],
      "metadata": {
        "id": "xgu8W9dd4CM-"
      },
      "execution_count": 897,
      "outputs": []
    },
    {
      "cell_type": "code",
      "source": [
        "knn_modelcb = KNeighborsClassifier(n_neighbors=5, metric='minkowski', p = 2)\n",
        "knn_modelcb.fit(X_dados_train_over, y_dados_train_over)"
      ],
      "metadata": {
        "colab": {
          "base_uri": "https://localhost:8080/"
        },
        "id": "oSDZkndO4Jhk",
        "outputId": "30df30d1-eae4-4855-eb25-dcc71c4d619c"
      },
      "execution_count": 898,
      "outputs": [
        {
          "output_type": "execute_result",
          "data": {
            "text/plain": [
              "KNeighborsClassifier()"
            ]
          },
          "metadata": {},
          "execution_count": 898
        }
      ]
    },
    {
      "cell_type": "code",
      "source": [
        "previsoes = knn_modelcb.predict(X_dados_test_over)\n",
        "previsoes"
      ],
      "metadata": {
        "colab": {
          "base_uri": "https://localhost:8080/"
        },
        "id": "xuAla1qJ4OzT",
        "outputId": "2c9b38a3-33ce-47c0-dc8e-19518f5ad086"
      },
      "execution_count": 899,
      "outputs": [
        {
          "output_type": "execute_result",
          "data": {
            "text/plain": [
              "array(['I', 'I', 'III', 'I', 'I', 'IV', 'III', 'I', 'I', 'I', 'III', 'II',\n",
              "       'IV', 'IV', 'I', 'II', 'I', 'I', 'I', 'I', 'IV', 'III', 'I', 'IV',\n",
              "       'I', 'I', 'III', 'I', 'II', 'I', 'I', 'IV', 'II', 'II', 'II', 'I',\n",
              "       'IV', 'IV', 'II', 'II', 'III', 'II', 'III', 'IV', 'IV', 'I', 'IV',\n",
              "       'IV', 'II', 'II', 'II', 'IV', 'II', 'III', 'III', 'I', 'III',\n",
              "       'III', 'I', 'I', 'II', 'IV', 'III', 'IV', 'I', 'IV', 'IV', 'III',\n",
              "       'IV'], dtype=object)"
            ]
          },
          "metadata": {},
          "execution_count": 899
        }
      ]
    },
    {
      "cell_type": "code",
      "source": [
        "y_dados_test_over"
      ],
      "metadata": {
        "colab": {
          "base_uri": "https://localhost:8080/"
        },
        "id": "gxPUcax-4WcN",
        "outputId": "19e2937b-414e-4678-90ee-891cec01c434"
      },
      "execution_count": 900,
      "outputs": [
        {
          "output_type": "execute_result",
          "data": {
            "text/plain": [
              "array(['III', 'I', 'II', 'I', 'II', 'IV', 'III', 'I', 'I', 'II', 'II',\n",
              "       'I', 'III', 'IV', 'I', 'II', 'II', 'I', 'II', 'I', 'IV', 'II', 'I',\n",
              "       'III', 'I', 'I', 'III', 'II', 'II', 'I', 'I', 'IV', 'II', 'II',\n",
              "       'III', 'IV', 'IV', 'III', 'II', 'II', 'III', 'II', 'II', 'IV',\n",
              "       'IV', 'I', 'IV', 'IV', 'III', 'I', 'II', 'II', 'III', 'III', 'III',\n",
              "       'I', 'II', 'IV', 'I', 'I', 'I', 'IV', 'II', 'IV', 'I', 'IV', 'II',\n",
              "       'I', 'IV'], dtype=object)"
            ]
          },
          "metadata": {},
          "execution_count": 900
        }
      ]
    },
    {
      "cell_type": "code",
      "source": [
        "from sklearn.metrics import accuracy_score, classification_report\n",
        "accuracy_score(y_dados_test_over, previsoes) # padronização"
      ],
      "metadata": {
        "colab": {
          "base_uri": "https://localhost:8080/"
        },
        "id": "0oEpDH1B4fXU",
        "outputId": "0ef0576c-6106-4a37-a301-8c31cfff7878"
      },
      "execution_count": 901,
      "outputs": [
        {
          "output_type": "execute_result",
          "data": {
            "text/plain": [
              "0.6231884057971014"
            ]
          },
          "metadata": {},
          "execution_count": 901
        }
      ]
    },
    {
      "cell_type": "code",
      "source": [
        "from yellowbrick.classifier import ConfusionMatrix\n",
        "cm = ConfusionMatrix(knn_modelcb)\n",
        "cm.fit(X_dados_train_over, y_dados_train_over)\n",
        "cm.score(X_dados_test_over, y_dados_test_over)"
      ],
      "metadata": {
        "colab": {
          "base_uri": "https://localhost:8080/",
          "height": 365
        },
        "id": "SfGBugCG4i4k",
        "outputId": "41a6b2f2-b20f-4d5e-c861-73a9affbffe1"
      },
      "execution_count": 902,
      "outputs": [
        {
          "output_type": "execute_result",
          "data": {
            "text/plain": [
              "0.6231884057971014"
            ]
          },
          "metadata": {},
          "execution_count": 902
        },
        {
          "output_type": "display_data",
          "data": {
            "text/plain": [
              "<Figure size 576x396 with 1 Axes>"
            ],
            "image/png": "[encoded data removed]"
          },
          "metadata": {}
        }
      ]
    },
    {
      "cell_type": "code",
      "source": [
        "print(classification_report(y_dados_test_over, previsoes))"
      ],
      "metadata": {
        "colab": {
          "base_uri": "https://localhost:8080/"
        },
        "id": "gD14FObh-k1C",
        "outputId": "f5f917c2-a830-461e-985d-aac5045e72cb"
      },
      "execution_count": 903,
      "outputs": [
        {
          "output_type": "stream",
          "name": "stdout",
          "text": [
            "              precision    recall  f1-score   support\n",
            "\n",
            "           I       0.71      0.81      0.76        21\n",
            "          II       0.57      0.38      0.46        21\n",
            "         III       0.38      0.42      0.40        12\n",
            "          IV       0.72      0.87      0.79        15\n",
            "\n",
            "    accuracy                           0.62        69\n",
            "   macro avg       0.60      0.62      0.60        69\n",
            "weighted avg       0.61      0.62      0.61        69\n",
            "\n"
          ]
        }
      ]
    },
    {
      "cell_type": "markdown",
      "source": [
        "# ***C2-02. RandomForestClassifier***{Balanced} => 0.753"
      ],
      "metadata": {
        "id": "XxgyPNGX3ylI"
      }
    },
    {
      "cell_type": "code",
      "source": [
        "#PREPARAR OS DADOS ==> Importar e tratar os dados\n",
        "import pandas as pd\n",
        "\n",
        "# Importando o Arquivo\n",
        "dados = pd.read_csv(\"dataMODIFICADOv10F.csv\", sep=\",\")\n",
        "\n",
        "#Transformando os nulos para 0\n",
        "dados = dados.fillna(1, inplace= False) \n",
        "\n",
        "#Separando as variaveis de interesse | sex\tage\tLYVE1\tREG1B\tTFF1\tcreatinine\tplasma_CA19_9\tREG1A\t\n",
        "X_dados = dados.iloc[:,7:13].values\n",
        "X_dados \n",
        "\n",
        "#Separando a classe alvo | stage2\n",
        "y_dados = dados.iloc[:,13].values\n",
        "y_dados\n",
        "\n",
        "# Tratando as colunas que São rotulos | sex\n",
        "from sklearn.preprocessing import LabelEncoder\n",
        "\n",
        "#label_encoder_sex = LabelEncoder()\n",
        "#X_dados[:,0] = label_encoder_sex.fit_transform(X_dados[:,0])\n",
        "#X_dados\n",
        "\n",
        "# Sobreamostragem com SMOTE\n",
        "\n",
        "from imblearn.over_sampling import SMOTE\n",
        "smote = SMOTE(sampling_strategy='not majority', random_state=29)\n",
        "#9  0.7971014492753623\n",
        "\n",
        "X_over, y_over = smote.fit_resample(X_dados, y_dados)\n",
        "\n",
        "#y_over.shape, X_over.shape\n",
        "np.unique(y_dados, return_counts = True), np.unique(y_over, return_counts = True)\n",
        "\n",
        "import seaborn as sns\n",
        "sns.countplot(x = y_over);\n",
        "\n",
        "#from sklearn.preprocessing import OneHotEncoder\n",
        "#from sklearn.compose import ColumnTransformer\n",
        "#onehotencorder = ColumnTransformer(transformers=[(\"OneHot\", OneHotEncoder(), [0])],remainder='passthrough')\n",
        "#X_dados = onehotencorder.fit_transform(X_over).toarray()\n",
        "X_dados = X_over\n",
        "#X_dados, X_dados.shape\n",
        "\n",
        "#ESCALONAMENTO DE ATRIBUTOS\n",
        "from sklearn.preprocessing import StandardScaler\n",
        "scaler_dados = StandardScaler()\n",
        "X_dados = scaler_dados.fit_transform(X_dados)\n",
        "X_dados\n",
        "\n",
        "#Separação dos dados BALANCEADOS\n",
        "from sklearn.model_selection import train_test_split\n",
        "\n",
        "X_dados_train_over, X_dados_test_over, y_dados_train_over, y_dados_test_over = train_test_split(X_dados, y_over, test_size=0.2, random_state=0)\n",
        "X_dados_train_over.shape, X_dados_test_over.shape\n"
      ],
      "metadata": {
        "colab": {
          "base_uri": "https://localhost:8080/",
          "height": 364
        },
        "id": "klf-LVhMNGjc",
        "outputId": "767adc47-12d0-4ff8-ba43-cf20cfee48e7"
      },
      "execution_count": 904,
      "outputs": [
        {
          "output_type": "execute_result",
          "data": {
            "text/plain": [
              "((275, 6), (69, 6))"
            ]
          },
          "metadata": {},
          "execution_count": 904
        },
        {
          "output_type": "display_data",
          "data": {
            "text/plain": [
              "<Figure size 576x396 with 1 Axes>"
            ],
            "image/png": "[encoded data removed]"
          },
          "metadata": {}
        }
      ]
    },
    {
      "cell_type": "code",
      "source": [
        "from sklearn.ensemble import RandomForestClassifier #1,6,300,10 -->0.681 | 1,5,200, 17 -->0.8115942028985508\n",
        "\n",
        "random_forest_dados = RandomForestClassifier(criterion = 'entropy', min_samples_leaf =  1, min_samples_split = 5, n_estimators = 200, random_state = 17 )\n",
        "random_forest_dados.fit(X_dados_train_over, y_dados_train_over)"
      ],
      "metadata": {
        "colab": {
          "base_uri": "https://localhost:8080/"
        },
        "id": "yxwaoRK8kpEy",
        "outputId": "67ab3278-43ac-4097-ec26-3d15d01074dd"
      },
      "execution_count": 905,
      "outputs": [
        {
          "output_type": "execute_result",
          "data": {
            "text/plain": [
              "RandomForestClassifier(criterion='entropy', min_samples_split=5,\n",
              "                       n_estimators=200, random_state=17)"
            ]
          },
          "metadata": {},
          "execution_count": 905
        }
      ]
    },
    {
      "cell_type": "code",
      "source": [
        "from sklearn.metrics import accuracy_score, classification_report\n",
        "previsoes = random_forest_dados.predict(X_dados_test_over)\n",
        "accuracy_score(y_dados_test_over, previsoes)"
      ],
      "metadata": {
        "colab": {
          "base_uri": "https://localhost:8080/"
        },
        "id": "WN5s6LAnlC4f",
        "outputId": "901bc132-bced-4593-a562-064206268c8e"
      },
      "execution_count": 906,
      "outputs": [
        {
          "output_type": "execute_result",
          "data": {
            "text/plain": [
              "0.7536231884057971"
            ]
          },
          "metadata": {},
          "execution_count": 906
        }
      ]
    },
    {
      "cell_type": "code",
      "source": [
        "from yellowbrick.classifier import ConfusionMatrix\n",
        "cm = ConfusionMatrix(random_forest_dados)\n",
        "cm.fit(X_dados_train_over, y_dados_train_over)\n",
        "cm.score(X_dados_test_over, y_dados_test_over)"
      ],
      "metadata": {
        "colab": {
          "base_uri": "https://localhost:8080/",
          "height": 365
        },
        "id": "RqKVj-EzbWyg",
        "outputId": "646b2e56-4c60-426a-aeb7-084c744c9a28"
      },
      "execution_count": 907,
      "outputs": [
        {
          "output_type": "execute_result",
          "data": {
            "text/plain": [
              "0.7536231884057971"
            ]
          },
          "metadata": {},
          "execution_count": 907
        },
        {
          "output_type": "display_data",
          "data": {
            "text/plain": [
              "<Figure size 576x396 with 1 Axes>"
            ],
            "image/png": "[encoded data removed]"
          },
          "metadata": {}
        }
      ]
    },
    {
      "cell_type": "code",
      "source": [
        "print(classification_report(y_dados_test_over, previsoes))"
      ],
      "metadata": {
        "colab": {
          "base_uri": "https://localhost:8080/"
        },
        "id": "0TKZldoDqWvc",
        "outputId": "df3c59f1-b53a-4430-84ce-7e4b500d70ff"
      },
      "execution_count": 908,
      "outputs": [
        {
          "output_type": "stream",
          "name": "stdout",
          "text": [
            "              precision    recall  f1-score   support\n",
            "\n",
            "           I       0.83      0.95      0.89        21\n",
            "          II       0.82      0.43      0.56        21\n",
            "         III       0.53      0.67      0.59        12\n",
            "          IV       0.79      1.00      0.88        15\n",
            "\n",
            "    accuracy                           0.75        69\n",
            "   macro avg       0.74      0.76      0.73        69\n",
            "weighted avg       0.77      0.75      0.74        69\n",
            "\n"
          ]
        }
      ]
    },
    {
      "cell_type": "markdown",
      "source": [
        "# **C2-03. SVM**{Balanced} => 0.521, linear, 0, 10 |"
      ],
      "metadata": {
        "id": "eGoD2mIZ2fLc"
      }
    },
    {
      "cell_type": "code",
      "source": [
        "#PREPARAR OS DADOS ==> Importar e tratar os dados\n",
        "import pandas as pd\n",
        "\n",
        "\n",
        "# Importando o Arquivo\n",
        "dados = pd.read_csv(\"dataMODIFICADOv10F.csv\", sep=\",\")\n",
        "\n",
        "#Transformando os nulos para 0\n",
        "dados = dados.fillna(1, inplace= False) \n",
        "\n",
        "#Separando as variaveis de interesse | sex\tage\tLYVE1\tREG1B\tTFF1\tcreatinine\tplasma_CA19_9\tREG1A\t\n",
        "X_dados = dados.iloc[:,7:13].values\n",
        "X_dados \n",
        "\n",
        "#Separando a classe alvo | stage2\n",
        "y_dados = dados.iloc[:,13].values\n",
        "y_dados\n",
        "\n",
        "# Tratando as colunas que São rotulos | sex\n",
        "from sklearn.preprocessing import LabelEncoder\n",
        "\n",
        "#label_encoder_sex = LabelEncoder()\n",
        "#X_dados[:,0] = label_encoder_sex.fit_transform(X_dados[:,0])\n",
        "#X_dados\n",
        "\n",
        "# Sobreamostragem com SMOTE\n",
        "\n",
        "from imblearn.over_sampling import SMOTE\n",
        "import numpy as np\n",
        "\n",
        "lista = []\n",
        "count = 1\n",
        "\n",
        "smote = SMOTE(sampling_strategy='not majority', random_state=16)\n",
        "#2 - 47\n",
        "X_over, y_over = smote.fit_resample(X_dados, y_dados)\n",
        "\n",
        "#y_over.shape, X_over.shape\n",
        "\n",
        "np.unique(y_dados, return_counts = True), np.unique(y_over, return_counts = True)\n",
        "\n",
        "import seaborn as sns\n",
        "sns.countplot(x = y_over);\n",
        "\n",
        "#from sklearn.preprocessing import OneHotEncoder\n",
        "#from sklearn.compose import ColumnTransformer\n",
        "#onehotencorder = ColumnTransformer(transformers=[(\"OneHot\", OneHotEncoder(), [0])],remainder='passthrough')\n",
        "#X_dados = onehotencorder.fit_transform(X_over).toarray()\n",
        "X_dados = X_over\n",
        "#X_dados, X_dados.shape\n",
        "\n",
        "#ESCALONAMENTO DE ATRIBUTOS\n",
        "from sklearn.preprocessing import StandardScaler\n",
        "scaler_dados = StandardScaler()\n",
        "X_dados = scaler_dados.fit_transform(X_dados)\n",
        "X_dados\n",
        "\n",
        "#Separação dos dados BALANCEADOS\n",
        "from sklearn.model_selection import train_test_split\n",
        "\n",
        "X_dados_train_over, X_dados_test_over, y_dados_train_over, y_dados_test_over = train_test_split(X_dados, y_over, test_size=0.2, random_state=1)\n",
        "X_dados_train_over.shape, X_dados_test_over.shape\n",
        "np.unique(y_dados, return_counts = True), np.unique(y_over, return_counts = True)\n"
      ],
      "metadata": {
        "colab": {
          "base_uri": "https://localhost:8080/",
          "height": 382
        },
        "id": "mt8qMixm2pkD",
        "outputId": "ea252309-f488-4631-ea00-8b1076f61484"
      },
      "execution_count": 909,
      "outputs": [
        {
          "output_type": "execute_result",
          "data": {
            "text/plain": [
              "((array(['I', 'II', 'III', 'IV'], dtype=object), array([16, 86, 76, 21])),\n",
              " (array(['I', 'II', 'III', 'IV'], dtype=object), array([86, 86, 86, 86])))"
            ]
          },
          "metadata": {},
          "execution_count": 909
        },
        {
          "output_type": "display_data",
          "data": {
            "text/plain": [
              "<Figure size 576x396 with 1 Axes>"
            ],
            "image/png": "[encoded data removed]"
          },
          "metadata": {}
        }
      ]
    },
    {
      "cell_type": "code",
      "source": [
        "from sklearn.svm import SVC"
      ],
      "metadata": {
        "id": "4KssgckW2rDb"
      },
      "execution_count": 910,
      "outputs": []
    },
    {
      "cell_type": "code",
      "source": [
        "svm_dados = SVC(kernel='linear', random_state=0, C = 10.0) # 2 -> 4\n",
        "svm_dados.fit(X_dados_train_over, y_dados_train_over)"
      ],
      "metadata": {
        "colab": {
          "base_uri": "https://localhost:8080/"
        },
        "id": "7BIssZnS2xeH",
        "outputId": "9e96ac4b-5416-41be-bcc9-bda62a335466"
      },
      "execution_count": 911,
      "outputs": [
        {
          "output_type": "execute_result",
          "data": {
            "text/plain": [
              "SVC(C=10.0, kernel='linear', random_state=0)"
            ]
          },
          "metadata": {},
          "execution_count": 911
        }
      ]
    },
    {
      "cell_type": "code",
      "source": [
        "previsoes = svm_dados.predict(X_dados_test_over)\n",
        "previsoes"
      ],
      "metadata": {
        "colab": {
          "base_uri": "https://localhost:8080/"
        },
        "id": "JZVS5Mb520X0",
        "outputId": "86615fbf-bba9-4e74-9774-3eb76cab2edb"
      },
      "execution_count": 912,
      "outputs": [
        {
          "output_type": "execute_result",
          "data": {
            "text/plain": [
              "array(['IV', 'IV', 'IV', 'IV', 'IV', 'I', 'I', 'I', 'IV', 'I', 'I', 'IV',\n",
              "       'IV', 'I', 'III', 'II', 'III', 'IV', 'II', 'II', 'I', 'I', 'IV',\n",
              "       'IV', 'I', 'I', 'IV', 'I', 'IV', 'IV', 'I', 'IV', 'I', 'I', 'IV',\n",
              "       'IV', 'III', 'IV', 'IV', 'I', 'I', 'IV', 'I', 'I', 'IV', 'III',\n",
              "       'III', 'IV', 'IV', 'III', 'IV', 'IV', 'I', 'II', 'IV', 'I', 'II',\n",
              "       'IV', 'II', 'I', 'I', 'I', 'IV', 'IV', 'IV', 'I', 'II', 'I', 'II'],\n",
              "      dtype=object)"
            ]
          },
          "metadata": {},
          "execution_count": 912
        }
      ]
    },
    {
      "cell_type": "markdown",
      "source": [],
      "metadata": {
        "id": "-9aW3zZwfysq"
      }
    },
    {
      "cell_type": "code",
      "source": [
        "y_dados_test_over"
      ],
      "metadata": {
        "colab": {
          "base_uri": "https://localhost:8080/"
        },
        "id": "BVeDKDbg26hm",
        "outputId": "5abdd699-4ef5-4c5e-fc98-29e5fe28b9e2"
      },
      "execution_count": 913,
      "outputs": [
        {
          "output_type": "execute_result",
          "data": {
            "text/plain": [
              "array(['IV', 'IV', 'IV', 'III', 'IV', 'I', 'III', 'I', 'III', 'I', 'III',\n",
              "       'I', 'IV', 'III', 'II', 'II', 'I', 'I', 'II', 'II', 'I', 'I', 'IV',\n",
              "       'IV', 'II', 'I', 'I', 'III', 'IV', 'II', 'III', 'III', 'I', 'III',\n",
              "       'III', 'III', 'III', 'II', 'IV', 'II', 'II', 'III', 'III', 'I',\n",
              "       'IV', 'I', 'III', 'IV', 'IV', 'III', 'III', 'IV', 'III', 'III',\n",
              "       'IV', 'I', 'IV', 'II', 'II', 'I', 'III', 'II', 'IV', 'IV', 'II',\n",
              "       'II', 'II', 'I', 'II'], dtype=object)"
            ]
          },
          "metadata": {},
          "execution_count": 913
        }
      ]
    },
    {
      "cell_type": "code",
      "source": [
        "from sklearn.metrics import accuracy_score, classification_report \n",
        "#0.475, liner, 1, 1 | 0.425, poly, 1, 1 | #0.475, sigmoid, 1, 1 | 0.425, rbf, 1, 1\n",
        "#0.434, rbf 1, 2 |0.521 linear, 0, 10\n",
        "\n",
        "accuracy_score(y_dados_test_over, previsoes)"
      ],
      "metadata": {
        "colab": {
          "base_uri": "https://localhost:8080/"
        },
        "id": "IAJaF1_S28cB",
        "outputId": "cd9e728b-ada3-4437-897d-f137625eb416"
      },
      "execution_count": 914,
      "outputs": [
        {
          "output_type": "execute_result",
          "data": {
            "text/plain": [
              "0.5217391304347826"
            ]
          },
          "metadata": {},
          "execution_count": 914
        }
      ]
    },
    {
      "cell_type": "code",
      "source": [
        "from yellowbrick.classifier import ConfusionMatrix\n",
        "cm = ConfusionMatrix(svm_dados)\n",
        "cm.fit(X_dados_train_over, y_dados_train_over)\n",
        "cm.score(X_dados_test_over, y_dados_test_over)"
      ],
      "metadata": {
        "colab": {
          "base_uri": "https://localhost:8080/",
          "height": 365
        },
        "id": "g8FC5K-02_is",
        "outputId": "181f3082-d65a-4918-ee27-959606d331f9"
      },
      "execution_count": 915,
      "outputs": [
        {
          "output_type": "execute_result",
          "data": {
            "text/plain": [
              "0.5217391304347826"
            ]
          },
          "metadata": {},
          "execution_count": 915
        },
        {
          "output_type": "display_data",
          "data": {
            "text/plain": [
              "<Figure size 576x396 with 1 Axes>"
            ],
            "image/png": "[encoded data removed]"
          },
          "metadata": {}
        }
      ]
    },
    {
      "cell_type": "code",
      "source": [
        "print(classification_report(y_dados_test_over, previsoes))"
      ],
      "metadata": {
        "colab": {
          "base_uri": "https://localhost:8080/"
        },
        "id": "XOQEdZ3h3Bpl",
        "outputId": "de0d46ec-f513-4ec2-d2bd-0bf8cd0c0f1c"
      },
      "execution_count": 916,
      "outputs": [
        {
          "output_type": "stream",
          "name": "stdout",
          "text": [
            "              precision    recall  f1-score   support\n",
            "\n",
            "           I       0.44      0.69      0.54        16\n",
            "          II       0.75      0.38      0.50        16\n",
            "         III       0.50      0.15      0.23        20\n",
            "          IV       0.53      0.94      0.68        17\n",
            "\n",
            "    accuracy                           0.52        69\n",
            "   macro avg       0.56      0.54      0.49        69\n",
            "weighted avg       0.55      0.52      0.48        69\n",
            "\n"
          ]
        }
      ]
    },
    {
      "cell_type": "markdown",
      "source": [
        "# **C2-04. Agrupamento Hierarquico**"
      ],
      "metadata": {
        "id": "ZAjK5orIOw9k"
      }
    },
    {
      "cell_type": "code",
      "source": [
        "#PREPARAR OS DADOS ==> Importar e tratar os dados\n",
        "import pandas as pd\n",
        "\n",
        "# Importando o Arquivo\n",
        "dados = pd.read_csv(\"dataMODIFICADOv10F.csv\", sep=\",\")\n",
        "\n",
        "#Transformando os nulos para 0\n",
        "dados = dados.fillna(1, inplace= False) \n",
        "\n",
        "#Separando as variaveis de interesse | sex\tage\tLYVE1\tREG1B\tTFF1\tcreatinine\tplasma_CA19_9\tREG1A\t\n",
        "\n",
        "X_dados = dados.iloc[:,7:13].values\n",
        "\n",
        "#Separando a classe alvo | stage2\n",
        "y_dados = dados.iloc[:,13].values\n",
        "y_dados\n",
        "\n",
        "# Tratando as colunas que São rotulos | sex\n",
        "from sklearn.preprocessing import LabelEncoder\n",
        "\n",
        "# label_encoder_sex = LabelEncoder()\n",
        "# X_dados[:,0] = label_encoder_sex.fit_transform(X_dados[:,0])\n",
        "\n",
        "# Sobreamostragem com SMOTE\n",
        "\n",
        "from imblearn.over_sampling import SMOTE\n",
        "\n",
        "smote = SMOTE(sampling_strategy='not majority')\n",
        "X_over, y_over = smote.fit_resample(X_dados, y_dados)\n",
        "\n",
        "#y_over.shape, X_over.shape\n",
        "np.unique(y_dados, return_counts = True), np.unique(y_over, return_counts = True)\n",
        "\n",
        "import seaborn as sns\n",
        "sns.countplot(x = y_over);\n",
        "\n",
        "# from sklearn.preprocessing import OneHotEncoder\n",
        "# from sklearn.compose import ColumnTransformer\n",
        "# onehotencorder = ColumnTransformer(transformers=[(\"OneHot\", OneHotEncoder(), [0])],remainder='passthrough')\n",
        "# X_dados = onehotencorder.fit_transform(X_over).toarray()\n",
        "\n",
        "#X_dados, X_dados.shape\n",
        "\n",
        "#ESCALONAMENTO DE ATRIBUTOS\n",
        "from sklearn.preprocessing import StandardScaler\n",
        "scaler_dados = StandardScaler()\n",
        "X_dados = scaler_dados.fit_transform(X_over)\n",
        "X_dados\n",
        "\n",
        "#Separação dos dados BALANCEADOS\n",
        "from sklearn.model_selection import train_test_split\n",
        "X_dados_train_over, X_dados_test_over, y_dados_train_over, y_dados_test_over = train_test_split(X_dados, y_over, test_size=0.2, random_state=0)\n"
      ],
      "metadata": {
        "colab": {
          "base_uri": "https://localhost:8080/",
          "height": 347
        },
        "id": "ag2xRPX74Tnl",
        "outputId": "1c7866cc-08d6-4a88-ad5e-4c2029f6c5bf"
      },
      "execution_count": 917,
      "outputs": [
        {
          "output_type": "display_data",
          "data": {
            "text/plain": [
              "<Figure size 576x396 with 1 Axes>"
            ],
            "image/png": "[encoded data removed]"
          },
          "metadata": {}
        }
      ]
    },
    {
      "cell_type": "code",
      "source": [
        "#Reduzir as dimensões de dimensões.\n",
        "from sklearn.decomposition import PCA\n",
        "import plotly.express as px\n"
      ],
      "metadata": {
        "id": "7uP7tvywO1WB"
      },
      "execution_count": 918,
      "outputs": []
    },
    {
      "cell_type": "code",
      "source": [
        "pca = PCA(n_components=None)"
      ],
      "metadata": {
        "id": "O81dL1nGO4oM"
      },
      "execution_count": 919,
      "outputs": []
    },
    {
      "cell_type": "code",
      "source": [
        "X_dados_train_pca = pca.fit_transform(X_dados_train_over)\n",
        "X_dados_test_pca = pca.transform(X_dados_test_over)"
      ],
      "metadata": {
        "id": "2A-49BgrO7oJ"
      },
      "execution_count": 920,
      "outputs": []
    },
    {
      "cell_type": "code",
      "source": [
        "X_dados_train_pca.shape, X_dados_test_pca.shape,"
      ],
      "metadata": {
        "colab": {
          "base_uri": "https://localhost:8080/"
        },
        "id": "EbCcXVbIP6Hi",
        "outputId": "05702389-9ed5-4ec0-9ef8-b349be31cd6c"
      },
      "execution_count": 921,
      "outputs": [
        {
          "output_type": "execute_result",
          "data": {
            "text/plain": [
              "((275, 6), (69, 6))"
            ]
          },
          "metadata": {},
          "execution_count": 921
        }
      ]
    },
    {
      "cell_type": "code",
      "source": [
        "#X_dados_train_pca"
      ],
      "metadata": {
        "id": "ezM8GuI_QOuw"
      },
      "execution_count": 922,
      "outputs": []
    },
    {
      "cell_type": "code",
      "source": [
        "pca.explained_variance_ratio_"
      ],
      "metadata": {
        "colab": {
          "base_uri": "https://localhost:8080/"
        },
        "id": "n9bCRWdgQlQ_",
        "outputId": "5e957266-6659-406c-89b3-e242f27851e8"
      },
      "execution_count": 923,
      "outputs": [
        {
          "output_type": "execute_result",
          "data": {
            "text/plain": [
              "array([0.387205  , 0.19881581, 0.15278248, 0.1247348 , 0.08790754,\n",
              "       0.04855437])"
            ]
          },
          "metadata": {},
          "execution_count": 923
        }
      ]
    },
    {
      "cell_type": "code",
      "source": [
        "pca.explained_variance_ratio_.sum()"
      ],
      "metadata": {
        "colab": {
          "base_uri": "https://localhost:8080/"
        },
        "id": "w4wrfjYZQqE1",
        "outputId": "dcc3e09b-9d81-48c5-d3d4-f08bb1288ea3"
      },
      "execution_count": 924,
      "outputs": [
        {
          "output_type": "execute_result",
          "data": {
            "text/plain": [
              "1.0"
            ]
          },
          "metadata": {},
          "execution_count": 924
        }
      ]
    },
    {
      "cell_type": "code",
      "source": [
        "grafico = px.scatter(x = X_dados_train_pca[:,0], y= X_dados_train_pca[:,1]) \n",
        "grafico.show()"
      ],
      "metadata": {
        "colab": {
          "base_uri": "https://localhost:8080/",
          "height": 542
        },
        "id": "aBV2Nqt7cPFJ",
        "outputId": "82894db3-a996-4950-b2be-a08ebb13ba8b"
      },
      "execution_count": 925,
      "outputs": [
        {
          "output_type": "display_data",
          "data": {
            "text/html": [
              "<html>\n",
              "<head><meta charset=\"utf-8\" /></head>\n",
              "<body>\n",
              "    <div>            <script src=\"https://cdnjs.cloudflare.com/ajax/libs/mathjax/2.7.5/MathJax.js?config=TeX-AMS-MML_SVG\"></script><script type=\"text/javascript\">if (window.MathJax) {MathJax.Hub.Config({SVG: {font: \"STIX-Web\"}});}</script>                <script type=\"text/javascript\">window.PlotlyConfig = {MathJaxConfig: 'local'};</script>\n",
              "        <script src=\"https://cdn.plot.ly/plotly-2.8.3.min.js\"></script>                <div id=\"000e1319-ab44-42ba-8c79-17180f3668e8\" class=\"plotly-graph-div\" style=\"height:525px; width:100%;\"></div>            <script type=\"text/javascript\">                                    window.PLOTLYENV=window.PLOTLYENV || {};                                    if (document.getElementById(\"000e1319-ab44-42ba-8c79-17180f3668e8\")) {                    Plotly.newPlot(                        \"000e1319-ab44-42ba-8c79-17180f3668e8\",                        [{\"hovertemplate\":\"x=%{x}<br>y=%{y}<extra></extra>\",\"legendgroup\":\"\",\"marker\":{\"color\":\"#636efa\",\"symbol\":\"circle\"},\"mode\":\"markers\",\"name\":\"\",\"orientation\":\"v\",\"showlegend\":false,\"x\":[0.23611421332227778,2.0031412522228726,-1.3996938626541469,-1.6050779000502509,2.960145999491355,1.5142024457448016,-1.1896198924472454,2.940817465780631,-1.2059194926443866,-1.9592544078624596,-0.4759495060166399,-1.6779559797621135,0.8370047739642166,-1.0958197368835032,-0.28545898482895593,-0.7656059363211791,-1.5299043474412177,1.6937969895068912,1.6113478403860395,0.009342779775802836,0.7946092692105855,-1.9460773664537077,1.5086305016969008,1.0902455896361052,-1.5395070349738122,-0.4674344835727549,-0.603139561799828,-1.0292638951013362,1.9543075838629145,-0.8328407031673636,-0.34170931675637817,-0.6373902232375015,1.1527297871856435,1.3796672798874676,0.18110499415246653,-0.7587582082227685,-0.14371020145426533,-1.1423325484256897,1.8152233137117315,-1.5195191351028738,-1.3318842617699829,-1.2276908258091621,0.6098014754306047,-1.30507099508778,-0.8181019363178044,2.290749607679961,-0.1302530525331444,-1.4857305030676744,-0.18610808026058967,-1.155597412941841,-1.135601995789636,-0.5933553802575812,-0.2789672099414079,-0.71778168542787,1.0230911874424822,-0.16304611202176156,-1.1056979387434138,1.4824663232428692,-1.871197086880686,-1.2390113329707744,-1.1781862181165925,-1.060741480064347,-1.9934746388714912,-0.7779366417776357,-0.3295472995445298,-1.123067161706431,-0.7803490560880493,-1.2548888497613024,-1.4313343715243045,-0.6523006622679218,-1.4313245687595242,-1.1276144364327854,-1.6915710524429748,-0.770177060562511,-1.9962328440095805,-0.595241088327169,-1.3805875628574096,-0.8957911817009047,-1.1460009623756,0.8471531025599062,0.0036914636574251454,-0.476380075897381,-0.6513330609284876,-1.0649347410328898,-0.47710754710704795,-1.3480051628817669,-0.046492758108609096,1.701550398790011,2.28007284067926,-1.3291598137542695,2.379949609837038,0.7489682922167993,0.7293904237234865,-1.4738088829153635,1.8427929816199036,0.5266492066441197,0.05464387148820315,0.11742788548052135,1.5465832648947546,0.8913297007925256,-0.345491996131296,-1.5504414718229895,-2.0753664202793676,2.786251095594608,1.9398401479118765,-1.1055974297367333,-1.0382219873451308,-1.1231887550114117,-0.37362569412183266,0.19965405706701422,-1.2402071156202057,0.8594783562938145,0.08154796999511252,0.9122359008808992,1.146211774178241,-0.09915312132869913,-1.431738565943156,3.3049228266846895,0.7423744868346546,9.827584886167315,-1.1303734424183165,-0.9130560005311602,0.2975327138477336,-0.8471841596628563,0.2564760255475958,-0.4108995236488875,-1.475871163817614,-1.5473645409716386,1.874761319313726,0.7040585421792703,0.03138359692611176,-1.381608043668521,4.480568789592763,-1.4844588415536135,-1.586269077962127,-0.9148296843307847,-1.1661635417318597,-1.25887706290384,0.3108363253329413,-2.155638667985829,-1.7151552739546074,-0.14768639153403237,1.7077477922543287,1.824379928826909,-0.10611236448571455,3.4969541801991,1.8963105623716416,1.582980236329505,1.9889041491884978,1.9312065543354486,-1.642426930430364,-0.3477468764999722,-1.4931080185769818,-1.4305872616467306,-1.5601080326553627,1.9402626952141344,-0.7391257764743526,-1.4354577314569106,0.19985432957619836,-1.5288701590604092,-0.7077518808766629,-0.49132254994929,-1.9985037614189616,-0.8059526009438108,0.25778452745574143,-0.9964023711750296,0.4482139869683374,-1.5409914761743724,1.5740661254899289,1.8111665325614184,2.5624968480826196,-1.7723494081594486,-1.1013669444934786,-1.3183126443076003,-0.7063342204224794,0.7036977626548435,1.7384936297514988,-0.07202209663133582,1.4817617059611896,0.5313632748602518,-0.9218346047102551,-0.663629649308917,-1.2434393524260234,-1.132504890698464,-0.06869699144391779,0.7273868422829214,-1.9872658863272403,0.7289303228444497,-0.6608418509212046,-0.9148577242764783,1.867208047572833,-0.1468877977300745,0.10195938065061602,-0.8520910335295442,-1.2338856527730477,-0.9369817113498429,-1.208649926344731,-0.3603139040146492,1.4002734010375626,-0.7527723844589459,-0.5585658992263162,-1.971680262165662,-1.220101713871362,1.5639410759913692,2.6889048329489187,1.569642623727926,-0.6509743228820893,-1.1667246162809939,-1.4823363890805106,-1.8611824789729887,4.976779448508252,1.9176730293386952,-0.47200262364950324,-1.5765761705597725,0.03685945627659599,-0.11456497494671469,3.7200753997365337,-1.9115869841497786,0.6289313302181047,1.6635563198622336,-1.1172766960385676,-0.7215576497365617,-0.2631263098812149,1.5776753479310865,-1.401142760173767,0.44755580436962494,-1.712449533449492,-0.5439459208121731,4.40285262397934,0.17588240847652462,2.0086588865322557,1.4802925664738242,2.933751836618932,-0.889591139352622,-1.0510359011698165,3.5469383058234305,-1.9612788261860328,0.8454943276008381,4.5934783646570105,1.5942862718761845,1.659231689935658,-0.5600172203965779,1.4168081283409735,-0.27818787317989596,-0.043601176758839635,-0.3483263302618257,0.3843077982068889,0.21599402832569048,-1.0240566533339175,-0.4616088390579351,-1.376476743609817,-0.36859110162543,-1.6246089242070165,-1.3829497734310325,1.7552752621234504,-0.04717024485457228,2.31759337665845,-1.3496661797871419,1.7549780430343338,-0.4905587384826302,4.898294692446052,-0.8703192785158175,-1.4797445659811672,1.8054085050510067,-1.5640659313464773,2.9224633653551626,-1.6041082855104998,-1.5373683976768266,-0.644475008503529,-0.9915900444285769,1.9824400474053818,1.4966856872343497,0.6543735827415573,-1.074048259498676,1.8928930836780495],\"xaxis\":\"x\",\"y\":[-0.9384063589804176,-0.4461081441289825,-0.029749481230218346,-0.24468137267193404,-0.5487559807401177,-0.45317564948228994,-0.35544364241491333,-0.9429307323323801,-0.45732236142289007,-0.13150021521934954,5.968494533488056,0.32380756277412165,0.0863090025575976,-0.26899279374900364,0.12601257203698119,-0.24118070264775254,-0.3636757596311106,0.7633463769698787,-0.4546660989035255,-0.4253804242285807,0.8596080008992978,-0.27405324675521525,-0.46098199908236875,0.5870232844554467,-0.3622565851739859,1.041665448068511,-0.40168639687994323,-0.23680343527932332,-0.7060612243822423,-0.19534874668405103,0.3553193832984139,-0.7723803942980751,0.39852256259131463,1.4767244444672856,-0.6641248745181016,-0.7775107011952529,-0.5644822682662551,-0.62342131982,-0.43390622152630753,-0.3542182146712139,-0.32698385315273637,-0.34095576472121053,0.31043403952227133,-0.39575134674249834,-0.39038570793802474,3.0145147711457785,-0.6606653534824689,-0.24949984753208693,-0.3489121068669798,-0.3417748084448366,1.5978252125163321,5.009557510284233,-0.5485508820364265,1.0883082227558523,-0.3269742581796676,0.38880059609420786,-0.6854128859388008,-0.46019941779388274,-0.3032285816831196,-0.4575588916088648,-0.14606845991236014,-0.07335511982908129,-0.22009513348950263,0.0668427772188822,-0.4767843568517468,-0.5660399879051448,-0.3197028304060593,-0.5764479793127509,-0.26005526975095467,-0.409012080221322,0.17864753250579063,-0.2771158748641756,0.06171915348770958,-0.3643628303824861,-0.23914656974240045,-0.4717656843610393,0.5337085701736981,-0.6694027940647005,-0.5710143877117015,-0.11071760208555625,0.8666211213256249,-1.1018294559562283,-0.757070185419311,-0.6267631603990506,-0.29087575833266716,-0.05320357048371137,-0.4442804504035009,0.1938104373861681,2.914125515813994,-0.38120964605090696,3.32105449872031,0.06449390566755395,-0.1239881982565566,-0.20546603569556451,-0.4240257481176308,1.6542287366408404,0.542315906102204,-0.5836535643666831,-0.4437346575994888,-0.3674149406721474,0.611513723905341,0.9767005589692528,0.29323458775330785,-0.610410409614731,-0.7278324208667825,0.1818760359497094,-0.6454238623146499,-0.1365833926320984,0.2722390076898493,-0.3876311825829144,0.4957711337576817,-0.1606248003390759,0.045732490537818055,-0.18632476594680095,-1.10184261819034,0.7184611627972176,-0.36704140247895833,1.2952920949614553,0.8604950047932824,-1.6986170625134889,-0.5679200608430667,0.47615529218620056,0.5987488002245034,-0.2673924808638962,-0.6473901197171483,-0.4522543239117109,-0.2587222029600355,1.0898916885804295,-0.5961637029657533,-0.40298118309035824,0.030509039376043205,-0.34200752987456573,-0.7596981675477703,-0.2743002739469443,-0.34129045417709647,-0.5808699561940909,-0.0430766879793685,0.37290758351955194,-0.2539331809732795,-0.09944373823980443,0.13204721591044752,-0.8492307246888183,-0.49516356122155875,-0.7138148897124268,1.0827361864468543,-0.5174718159275018,-0.6190596825846055,-0.46368909083971666,-0.6539988807891821,2.9716019418959494,-0.08900850975767846,0.06665462960370451,-0.28223900923955775,-0.22485369521232648,-0.2797191874197183,-0.43444172961062566,0.7976618775123115,-0.45433561106905584,10.468921600880913,0.7947424943050694,-0.058683523148368,-0.34596245972717227,-0.2385807628476572,-0.38442953254629547,-0.9212503455033929,-0.3781599998018473,0.9168444350602795,-0.22793597667238893,-0.479981767410768,-0.6757688420831545,-0.7054924637394219,2.89527390074074,-0.2704100242313576,-0.3877577584190686,-0.061655922927606736,0.8706254633511664,-0.5074141268012563,-0.6864027669904974,-0.46263411189952486,-0.04012376916180046,-0.7635523331382222,-0.39731362889808136,-0.23302821221098827,0.014404325090739009,5.079941350532603,-0.2759046097288601,-0.2040209017266512,-0.15887416447850747,-0.4001923437928597,-0.29493303088512435,-0.8371322119920218,-0.3033072872313815,-0.7099524359938072,-0.3221550795410625,3.5623952125499865,-0.2894448157546561,0.046970443853238134,-0.49198034897519294,-0.013591594268386716,-0.7263984515723961,-0.24548299189779174,-0.2700292199714217,0.09335190372813297,-0.4386737926192847,0.9105000380810915,-0.479150416267319,-0.3730628374502649,-0.6576357367225365,-0.3143942841759703,-0.07407013539011428,0.6529408636366228,-0.4602727787432387,-0.44330313404869204,-0.025617671247758465,-0.3646484475004653,-0.2559866643882929,3.0482656776756247,-0.17543982637157804,0.8902087724701061,-0.49680051857708213,-0.2798984908367437,-0.498405919335524,0.6294370926450443,-0.4988260973546014,-0.11391742899825548,0.64929007429019,0.12397870760502687,-0.8090500793981937,-0.8540752700762805,-0.031416310295226714,-0.4302361736403169,2.2326716859533735,-1.1080457152383765,-0.10597413499302559,-0.6864967830963193,-0.4633091142198083,0.5400054480837082,-1.2583249244754895,-0.8878213451839746,-0.4147210485558569,-0.43686584638084675,-0.6398682403108872,-0.045023507705769,-0.4987957008103499,-0.7922515786902509,-1.0019797517797855,-0.5146090670477184,-0.6065564519212158,0.004955123143455418,-0.023829665772017377,-0.34662164344670915,-0.27048343906565864,-0.2009284102667636,0.22354921687883403,-0.5148380795132734,-0.6206784609411324,3.106764562970328,-0.3319886282075838,-0.5139822804897936,-1.0484830476529559,-0.4380113803273133,0.0163622358307934,-0.32266657051198927,0.9007539968641564,-0.3246843887294251,-0.589406189635358,-0.32797279945703145,1.4576200536160524,-0.4170929465250803,-0.6890542081513537,-0.6637263287276117,-0.41106664373885093,-0.2073478553664859,0.2705161752065606,0.5104271698790518],\"yaxis\":\"y\",\"type\":\"scatter\"}],                        {\"template\":{\"data\":{\"bar\":[{\"error_x\":{\"color\":\"#2a3f5f\"},\"error_y\":{\"color\":\"#2a3f5f\"},\"marker\":{\"line\":{\"color\":\"#E5ECF6\",\"width\":0.5},\"pattern\":{\"fillmode\":\"overlay\",\"size\":10,\"solidity\":0.2}},\"type\":\"bar\"}],\"barpolar\":[{\"marker\":{\"line\":{\"color\":\"#E5ECF6\",\"width\":0.5},\"pattern\":{\"fillmode\":\"overlay\",\"size\":10,\"solidity\":0.2}},\"type\":\"barpolar\"}],\"carpet\":[{\"aaxis\":{\"endlinecolor\":\"#2a3f5f\",\"gridcolor\":\"white\",\"linecolor\":\"white\",\"minorgridcolor\":\"white\",\"startlinecolor\":\"#2a3f5f\"},\"baxis\":{\"endlinecolor\":\"#2a3f5f\",\"gridcolor\":\"white\",\"linecolor\":\"white\",\"minorgridcolor\":\"white\",\"startlinecolor\":\"#2a3f5f\"},\"type\":\"carpet\"}],\"choropleth\":[{\"colorbar\":{\"outlinewidth\":0,\"ticks\":\"\"},\"type\":\"choropleth\"}],\"contour\":[{\"colorbar\":{\"outlinewidth\":0,\"ticks\":\"\"},\"colorscale\":[[0.0,\"#0d0887\"],[0.1111111111111111,\"#46039f\"],[0.2222222222222222,\"#7201a8\"],[0.3333333333333333,\"#9c179e\"],[0.4444444444444444,\"#bd3786\"],[0.5555555555555556,\"#d8576b\"],[0.6666666666666666,\"#ed7953\"],[0.7777777777777778,\"#fb9f3a\"],[0.8888888888888888,\"#fdca26\"],[1.0,\"#f0f921\"]],\"type\":\"contour\"}],\"contourcarpet\":[{\"colorbar\":{\"outlinewidth\":0,\"ticks\":\"\"},\"type\":\"contourcarpet\"}],\"heatmap\":[{\"colorbar\":{\"outlinewidth\":0,\"ticks\":\"\"},\"colorscale\":[[0.0,\"#0d0887\"],[0.1111111111111111,\"#46039f\"],[0.2222222222222222,\"#7201a8\"],[0.3333333333333333,\"#9c179e\"],[0.4444444444444444,\"#bd3786\"],[0.5555555555555556,\"#d8576b\"],[0.6666666666666666,\"#ed7953\"],[0.7777777777777778,\"#fb9f3a\"],[0.8888888888888888,\"#fdca26\"],[1.0,\"#f0f921\"]],\"type\":\"heatmap\"}],\"heatmapgl\":[{\"colorbar\":{\"outlinewidth\":0,\"ticks\":\"\"},\"colorscale\":[[0.0,\"#0d0887\"],[0.1111111111111111,\"#46039f\"],[0.2222222222222222,\"#7201a8\"],[0.3333333333333333,\"#9c179e\"],[0.4444444444444444,\"#bd3786\"],[0.5555555555555556,\"#d8576b\"],[0.6666666666666666,\"#ed7953\"],[0.7777777777777778,\"#fb9f3a\"],[0.8888888888888888,\"#fdca26\"],[1.0,\"#f0f921\"]],\"type\":\"heatmapgl\"}],\"histogram\":[{\"marker\":{\"pattern\":{\"fillmode\":\"overlay\",\"size\":10,\"solidity\":0.2}},\"type\":\"histogram\"}],\"histogram2d\":[{\"colorbar\":{\"outlinewidth\":0,\"ticks\":\"\"},\"colorscale\":[[0.0,\"#0d0887\"],[0.1111111111111111,\"#46039f\"],[0.2222222222222222,\"#7201a8\"],[0.3333333333333333,\"#9c179e\"],[0.4444444444444444,\"#bd3786\"],[0.5555555555555556,\"#d8576b\"],[0.6666666666666666,\"#ed7953\"],[0.7777777777777778,\"#fb9f3a\"],[0.8888888888888888,\"#fdca26\"],[1.0,\"#f0f921\"]],\"type\":\"histogram2d\"}],\"histogram2dcontour\":[{\"colorbar\":{\"outlinewidth\":0,\"ticks\":\"\"},\"colorscale\":[[0.0,\"#0d0887\"],[0.1111111111111111,\"#46039f\"],[0.2222222222222222,\"#7201a8\"],[0.3333333333333333,\"#9c179e\"],[0.4444444444444444,\"#bd3786\"],[0.5555555555555556,\"#d8576b\"],[0.6666666666666666,\"#ed7953\"],[0.7777777777777778,\"#fb9f3a\"],[0.8888888888888888,\"#fdca26\"],[1.0,\"#f0f921\"]],\"type\":\"histogram2dcontour\"}],\"mesh3d\":[{\"colorbar\":{\"outlinewidth\":0,\"ticks\":\"\"},\"type\":\"mesh3d\"}],\"parcoords\":[{\"line\":{\"colorbar\":{\"outlinewidth\":0,\"ticks\":\"\"}},\"type\":\"parcoords\"}],\"pie\":[{\"automargin\":true,\"type\":\"pie\"}],\"scatter\":[{\"marker\":{\"colorbar\":{\"outlinewidth\":0,\"ticks\":\"\"}},\"type\":\"scatter\"}],\"scatter3d\":[{\"line\":{\"colorbar\":{\"outlinewidth\":0,\"ticks\":\"\"}},\"marker\":{\"colorbar\":{\"outlinewidth\":0,\"ticks\":\"\"}},\"type\":\"scatter3d\"}],\"scattercarpet\":[{\"marker\":{\"colorbar\":{\"outlinewidth\":0,\"ticks\":\"\"}},\"type\":\"scattercarpet\"}],\"scattergeo\":[{\"marker\":{\"colorbar\":{\"outlinewidth\":0,\"ticks\":\"\"}},\"type\":\"scattergeo\"}],\"scattergl\":[{\"marker\":{\"colorbar\":{\"outlinewidth\":0,\"ticks\":\"\"}},\"type\":\"scattergl\"}],\"scattermapbox\":[{\"marker\":{\"colorbar\":{\"outlinewidth\":0,\"ticks\":\"\"}},\"type\":\"scattermapbox\"}],\"scatterpolar\":[{\"marker\":{\"colorbar\":{\"outlinewidth\":0,\"ticks\":\"\"}},\"type\":\"scatterpolar\"}],\"scatterpolargl\":[{\"marker\":{\"colorbar\":{\"outlinewidth\":0,\"ticks\":\"\"}},\"type\":\"scatterpolargl\"}],\"scatterternary\":[{\"marker\":{\"colorbar\":{\"outlinewidth\":0,\"ticks\":\"\"}},\"type\":\"scatterternary\"}],\"surface\":[{\"colorbar\":{\"outlinewidth\":0,\"ticks\":\"\"},\"colorscale\":[[0.0,\"#0d0887\"],[0.1111111111111111,\"#46039f\"],[0.2222222222222222,\"#7201a8\"],[0.3333333333333333,\"#9c179e\"],[0.4444444444444444,\"#bd3786\"],[0.5555555555555556,\"#d8576b\"],[0.6666666666666666,\"#ed7953\"],[0.7777777777777778,\"#fb9f3a\"],[0.8888888888888888,\"#fdca26\"],[1.0,\"#f0f921\"]],\"type\":\"surface\"}],\"table\":[{\"cells\":{\"fill\":{\"color\":\"#EBF0F8\"},\"line\":{\"color\":\"white\"}},\"header\":{\"fill\":{\"color\":\"#C8D4E3\"},\"line\":{\"color\":\"white\"}},\"type\":\"table\"}]},\"layout\":{\"annotationdefaults\":{\"arrowcolor\":\"#2a3f5f\",\"arrowhead\":0,\"arrowwidth\":1},\"autotypenumbers\":\"strict\",\"coloraxis\":{\"colorbar\":{\"outlinewidth\":0,\"ticks\":\"\"}},\"colorscale\":{\"diverging\":[[0,\"#8e0152\"],[0.1,\"#c51b7d\"],[0.2,\"#de77ae\"],[0.3,\"#f1b6da\"],[0.4,\"#fde0ef\"],[0.5,\"#f7f7f7\"],[0.6,\"#e6f5d0\"],[0.7,\"#b8e186\"],[0.8,\"#7fbc41\"],[0.9,\"#4d9221\"],[1,\"#276419\"]],\"sequential\":[[0.0,\"#0d0887\"],[0.1111111111111111,\"#46039f\"],[0.2222222222222222,\"#7201a8\"],[0.3333333333333333,\"#9c179e\"],[0.4444444444444444,\"#bd3786\"],[0.5555555555555556,\"#d8576b\"],[0.6666666666666666,\"#ed7953\"],[0.7777777777777778,\"#fb9f3a\"],[0.8888888888888888,\"#fdca26\"],[1.0,\"#f0f921\"]],\"sequentialminus\":[[0.0,\"#0d0887\"],[0.1111111111111111,\"#46039f\"],[0.2222222222222222,\"#7201a8\"],[0.3333333333333333,\"#9c179e\"],[0.4444444444444444,\"#bd3786\"],[0.5555555555555556,\"#d8576b\"],[0.6666666666666666,\"#ed7953\"],[0.7777777777777778,\"#fb9f3a\"],[0.8888888888888888,\"#fdca26\"],[1.0,\"#f0f921\"]]},\"colorway\":[\"#636efa\",\"#EF553B\",\"#00cc96\",\"#ab63fa\",\"#FFA15A\",\"#19d3f3\",\"#FF6692\",\"#B6E880\",\"#FF97FF\",\"#FECB52\"],\"font\":{\"color\":\"#2a3f5f\"},\"geo\":{\"bgcolor\":\"white\",\"lakecolor\":\"white\",\"landcolor\":\"#E5ECF6\",\"showlakes\":true,\"showland\":true,\"subunitcolor\":\"white\"},\"hoverlabel\":{\"align\":\"left\"},\"hovermode\":\"closest\",\"mapbox\":{\"style\":\"light\"},\"paper_bgcolor\":\"white\",\"plot_bgcolor\":\"#E5ECF6\",\"polar\":{\"angularaxis\":{\"gridcolor\":\"white\",\"linecolor\":\"white\",\"ticks\":\"\"},\"bgcolor\":\"#E5ECF6\",\"radialaxis\":{\"gridcolor\":\"white\",\"linecolor\":\"white\",\"ticks\":\"\"}},\"scene\":{\"xaxis\":{\"backgroundcolor\":\"#E5ECF6\",\"gridcolor\":\"white\",\"gridwidth\":2,\"linecolor\":\"white\",\"showbackground\":true,\"ticks\":\"\",\"zerolinecolor\":\"white\"},\"yaxis\":{\"backgroundcolor\":\"#E5ECF6\",\"gridcolor\":\"white\",\"gridwidth\":2,\"linecolor\":\"white\",\"showbackground\":true,\"ticks\":\"\",\"zerolinecolor\":\"white\"},\"zaxis\":{\"backgroundcolor\":\"#E5ECF6\",\"gridcolor\":\"white\",\"gridwidth\":2,\"linecolor\":\"white\",\"showbackground\":true,\"ticks\":\"\",\"zerolinecolor\":\"white\"}},\"shapedefaults\":{\"line\":{\"color\":\"#2a3f5f\"}},\"ternary\":{\"aaxis\":{\"gridcolor\":\"white\",\"linecolor\":\"white\",\"ticks\":\"\"},\"baxis\":{\"gridcolor\":\"white\",\"linecolor\":\"white\",\"ticks\":\"\"},\"bgcolor\":\"#E5ECF6\",\"caxis\":{\"gridcolor\":\"white\",\"linecolor\":\"white\",\"ticks\":\"\"}},\"title\":{\"x\":0.05},\"xaxis\":{\"automargin\":true,\"gridcolor\":\"white\",\"linecolor\":\"white\",\"ticks\":\"\",\"title\":{\"standoff\":15},\"zerolinecolor\":\"white\",\"zerolinewidth\":2},\"yaxis\":{\"automargin\":true,\"gridcolor\":\"white\",\"linecolor\":\"white\",\"ticks\":\"\",\"title\":{\"standoff\":15},\"zerolinecolor\":\"white\",\"zerolinewidth\":2}}},\"xaxis\":{\"anchor\":\"y\",\"domain\":[0.0,1.0],\"title\":{\"text\":\"x\"}},\"yaxis\":{\"anchor\":\"x\",\"domain\":[0.0,1.0],\"title\":{\"text\":\"y\"}},\"legend\":{\"tracegroupgap\":0},\"margin\":{\"t\":60}},                        {\"responsive\": true}                    ).then(function(){\n",
              "                            \n",
              "var gd = document.getElementById('000e1319-ab44-42ba-8c79-17180f3668e8');\n",
              "var x = new MutationObserver(function (mutations, observer) {{\n",
              "        var display = window.getComputedStyle(gd).display;\n",
              "        if (!display || display === 'none') {{\n",
              "            console.log([gd, 'removed!']);\n",
              "            Plotly.purge(gd);\n",
              "            observer.disconnect();\n",
              "        }}\n",
              "}});\n",
              "\n",
              "// Listen for the removal of the full notebook cells\n",
              "var notebookContainer = gd.closest('#notebook-container');\n",
              "if (notebookContainer) {{\n",
              "    x.observe(notebookContainer, {childList: true});\n",
              "}}\n",
              "\n",
              "// Listen for the clearing of the current output cell\n",
              "var outputEl = gd.closest('.output');\n",
              "if (outputEl) {{\n",
              "    x.observe(outputEl, {childList: true});\n",
              "}}\n",
              "\n",
              "                        })                };                            </script>        </div>\n",
              "</body>\n",
              "</html>"
            ]
          },
          "metadata": {}
        }
      ]
    },
    {
      "cell_type": "code",
      "source": [
        "import matplotlib.pyplot as plt\n",
        "from scipy.cluster.hierarchy import dendrogram, linkage"
      ],
      "metadata": {
        "id": "nLLYaRYSsQnf"
      },
      "execution_count": 926,
      "outputs": []
    },
    {
      "cell_type": "code",
      "source": [
        "dendrograma = dendrogram(linkage(X_dados_train_pca, method='ward'))\n",
        "plt.title('Dendrograma')\n",
        "plt.xlabel('Biomarcadores')\n",
        "plt.ylabel('Distância');"
      ],
      "metadata": {
        "colab": {
          "base_uri": "https://localhost:8080/",
          "height": 374
        },
        "id": "fe1WkmfosS-Y",
        "outputId": "084772b2-c9cd-45ca-dba6-da5a83aa65e4"
      },
      "execution_count": 927,
      "outputs": [
        {
          "output_type": "display_data",
          "data": {
            "text/plain": [
              "<Figure size 576x396 with 1 Axes>"
            ],
            "image/png": "[encoded data removed]"
          },
          "metadata": {}
        }
      ]
    },
    {
      "cell_type": "code",
      "source": [
        "from sklearn.cluster import AgglomerativeClustering"
      ],
      "metadata": {
        "id": "AnDNJbZisdha"
      },
      "execution_count": 928,
      "outputs": []
    },
    {
      "cell_type": "code",
      "source": [
        "hc_dados_agrup = AgglomerativeClustering(n_clusters=2, linkage='ward', affinity='euclidean')\n",
        "rotulos = hc_dados_agrup.fit_predict(X_dados_train_pca)\n",
        "rotulos"
      ],
      "metadata": {
        "id": "BCu8KDb1sg1-",
        "colab": {
          "base_uri": "https://localhost:8080/"
        },
        "outputId": "a5c42636-5dd9-432b-ed4d-5bf90ebd4649"
      },
      "execution_count": 929,
      "outputs": [
        {
          "output_type": "execute_result",
          "data": {
            "text/plain": [
              "array([0, 1, 0, 0, 1, 1, 0, 1, 0, 0, 0, 0, 0, 0, 0, 0, 0, 0, 1, 0, 0, 0,\n",
              "       1, 0, 0, 0, 0, 0, 1, 0, 0, 0, 0, 0, 0, 0, 0, 0, 1, 0, 0, 0, 0, 0,\n",
              "       0, 0, 0, 0, 0, 0, 0, 0, 0, 0, 0, 0, 0, 1, 0, 0, 0, 0, 0, 0, 0, 0,\n",
              "       0, 0, 0, 0, 0, 0, 0, 0, 0, 0, 0, 0, 0, 0, 0, 0, 0, 0, 0, 0, 0, 1,\n",
              "       1, 0, 0, 0, 0, 0, 1, 0, 0, 0, 1, 0, 0, 0, 0, 1, 1, 0, 0, 0, 0, 0,\n",
              "       0, 0, 0, 0, 0, 0, 0, 1, 0, 1, 0, 0, 0, 0, 0, 0, 0, 0, 1, 0, 0, 0,\n",
              "       1, 0, 0, 0, 0, 0, 0, 0, 0, 0, 1, 1, 0, 1, 1, 1, 1, 0, 0, 0, 0, 0,\n",
              "       0, 1, 0, 0, 0, 0, 0, 0, 0, 0, 0, 0, 0, 0, 1, 1, 1, 0, 0, 0, 0, 0,\n",
              "       1, 0, 1, 0, 0, 0, 0, 0, 0, 0, 0, 0, 0, 0, 1, 0, 0, 0, 0, 0, 0, 0,\n",
              "       0, 0, 0, 0, 0, 1, 1, 1, 0, 0, 0, 0, 1, 1, 0, 0, 0, 0, 1, 0, 0, 1,\n",
              "       0, 0, 0, 1, 0, 0, 0, 0, 1, 0, 1, 0, 1, 0, 0, 1, 0, 0, 1, 1, 1, 0,\n",
              "       0, 0, 0, 0, 0, 0, 0, 0, 0, 0, 0, 0, 1, 0, 0, 0, 1, 0, 1, 0, 0, 0,\n",
              "       0, 1, 0, 0, 0, 0, 1, 1, 0, 0, 0])"
            ]
          },
          "metadata": {},
          "execution_count": 929
        }
      ]
    },
    {
      "cell_type": "code",
      "source": [
        "y_dados_train"
      ],
      "metadata": {
        "colab": {
          "base_uri": "https://localhost:8080/"
        },
        "id": "vfEqIMXU6Oy2",
        "outputId": "d622846f-db07-444a-fb9b-f6489d61ab77"
      },
      "execution_count": 930,
      "outputs": [
        {
          "output_type": "execute_result",
          "data": {
            "text/plain": [
              "array(['III', 'II', 'III', 'II', 'II', 'I', 'III', 'II', 'III', 'III',\n",
              "       'III', 'III', 'II', 'III', 'III', 'II', 'III', 'III', 'II', 'III',\n",
              "       'III', 'IV', 'II', 'IV', 'I', 'II', 'III', 'IV', 'II', 'II', 'II',\n",
              "       'III', 'II', 'III', 'II', 'II', 'I', 'III', 'I', 'II', 'IV', 'III',\n",
              "       'II', 'II', 'I', 'II', 'II', 'II', 'III', 'IV', 'II', 'III', 'IV',\n",
              "       'III', 'I', 'III', 'III', 'II', 'II', 'II', 'II', 'II', 'II', 'II',\n",
              "       'II', 'II', 'II', 'III', 'II', 'III', 'II', 'II', 'II', 'III',\n",
              "       'III', 'II', 'III', 'II', 'IV', 'II', 'IV', 'II', 'III', 'IV',\n",
              "       'IV', 'III', 'III', 'II', 'III', 'II', 'II', 'III', 'IV', 'III',\n",
              "       'II', 'IV', 'I', 'III', 'I', 'II', 'II', 'III', 'II', 'II', 'II',\n",
              "       'II', 'III', 'III', 'II', 'I', 'III', 'III', 'II', 'III', 'IV',\n",
              "       'II', 'III', 'III', 'II', 'II', 'I', 'II', 'IV', 'III', 'III',\n",
              "       'III', 'I', 'II', 'I', 'IV', 'III', 'III', 'II', 'III', 'III',\n",
              "       'III', 'III', 'III', 'II', 'II', 'III', 'II', 'II', 'II', 'II',\n",
              "       'IV', 'III', 'III', 'I', 'III', 'III', 'III', 'IV', 'I', 'II',\n",
              "       'III', 'III', 'IV', 'II'], dtype=object)"
            ]
          },
          "metadata": {},
          "execution_count": 930
        }
      ]
    },
    {
      "cell_type": "code",
      "source": [
        "grafico = px.scatter(x = X_dados_train_pca[:,0], y = X_dados_train_pca[:,1], color = rotulos)\n",
        "grafico.show()"
      ],
      "metadata": {
        "colab": {
          "base_uri": "https://localhost:8080/",
          "height": 542
        },
        "id": "PE-eUklJs9OC",
        "outputId": "2ba100a8-3c86-4ed1-c05b-405f307457c7"
      },
      "execution_count": 931,
      "outputs": [
        {
          "output_type": "display_data",
          "data": {
            "text/html": [
              "<html>\n",
              "<head><meta charset=\"utf-8\" /></head>\n",
              "<body>\n",
              "    <div>            <script src=\"https://cdnjs.cloudflare.com/ajax/libs/mathjax/2.7.5/MathJax.js?config=TeX-AMS-MML_SVG\"></script><script type=\"text/javascript\">if (window.MathJax) {MathJax.Hub.Config({SVG: {font: \"STIX-Web\"}});}</script>                <script type=\"text/javascript\">window.PlotlyConfig = {MathJaxConfig: 'local'};</script>\n",
              "        <script src=\"https://cdn.plot.ly/plotly-2.8.3.min.js\"></script>                <div id=\"659f5732-eb53-4b51-aed0-f7b1e8f7b66a\" class=\"plotly-graph-div\" style=\"height:525px; width:100%;\"></div>            <script type=\"text/javascript\">                                    window.PLOTLYENV=window.PLOTLYENV || {};                                    if (document.getElementById(\"659f5732-eb53-4b51-aed0-f7b1e8f7b66a\")) {                    Plotly.newPlot(                        \"659f5732-eb53-4b51-aed0-f7b1e8f7b66a\",                        [{\"hovertemplate\":\"x=%{x}<br>y=%{y}<br>color=%{marker.color}<extra></extra>\",\"legendgroup\":\"\",\"marker\":{\"color\":[0,1,0,0,1,1,0,1,0,0,0,0,0,0,0,0,0,0,1,0,0,0,1,0,0,0,0,0,1,0,0,0,0,0,0,0,0,0,1,0,0,0,0,0,0,0,0,0,0,0,0,0,0,0,0,0,0,1,0,0,0,0,0,0,0,0,0,0,0,0,0,0,0,0,0,0,0,0,0,0,0,0,0,0,0,0,0,1,1,0,0,0,0,0,1,0,0,0,1,0,0,0,0,1,1,0,0,0,0,0,0,0,0,0,0,0,0,1,0,1,0,0,0,0,0,0,0,0,1,0,0,0,1,0,0,0,0,0,0,0,0,0,1,1,0,1,1,1,1,0,0,0,0,0,0,1,0,0,0,0,0,0,0,0,0,0,0,0,1,1,1,0,0,0,0,0,1,0,1,0,0,0,0,0,0,0,0,0,0,0,1,0,0,0,0,0,0,0,0,0,0,0,0,1,1,1,0,0,0,0,1,1,0,0,0,0,1,0,0,1,0,0,0,1,0,0,0,0,1,0,1,0,1,0,0,1,0,0,1,1,1,0,0,0,0,0,0,0,0,0,0,0,0,0,1,0,0,0,1,0,1,0,0,0,0,1,0,0,0,0,1,1,0,0,0],\"coloraxis\":\"coloraxis\",\"symbol\":\"circle\"},\"mode\":\"markers\",\"name\":\"\",\"orientation\":\"v\",\"showlegend\":false,\"x\":[0.23611421332227778,2.0031412522228726,-1.3996938626541469,-1.6050779000502509,2.960145999491355,1.5142024457448016,-1.1896198924472454,2.940817465780631,-1.2059194926443866,-1.9592544078624596,-0.4759495060166399,-1.6779559797621135,0.8370047739642166,-1.0958197368835032,-0.28545898482895593,-0.7656059363211791,-1.5299043474412177,1.6937969895068912,1.6113478403860395,0.009342779775802836,0.7946092692105855,-1.9460773664537077,1.5086305016969008,1.0902455896361052,-1.5395070349738122,-0.4674344835727549,-0.603139561799828,-1.0292638951013362,1.9543075838629145,-0.8328407031673636,-0.34170931675637817,-0.6373902232375015,1.1527297871856435,1.3796672798874676,0.18110499415246653,-0.7587582082227685,-0.14371020145426533,-1.1423325484256897,1.8152233137117315,-1.5195191351028738,-1.3318842617699829,-1.2276908258091621,0.6098014754306047,-1.30507099508778,-0.8181019363178044,2.290749607679961,-0.1302530525331444,-1.4857305030676744,-0.18610808026058967,-1.155597412941841,-1.135601995789636,-0.5933553802575812,-0.2789672099414079,-0.71778168542787,1.0230911874424822,-0.16304611202176156,-1.1056979387434138,1.4824663232428692,-1.871197086880686,-1.2390113329707744,-1.1781862181165925,-1.060741480064347,-1.9934746388714912,-0.7779366417776357,-0.3295472995445298,-1.123067161706431,-0.7803490560880493,-1.2548888497613024,-1.4313343715243045,-0.6523006622679218,-1.4313245687595242,-1.1276144364327854,-1.6915710524429748,-0.770177060562511,-1.9962328440095805,-0.595241088327169,-1.3805875628574096,-0.8957911817009047,-1.1460009623756,0.8471531025599062,0.0036914636574251454,-0.476380075897381,-0.6513330609284876,-1.0649347410328898,-0.47710754710704795,-1.3480051628817669,-0.046492758108609096,1.701550398790011,2.28007284067926,-1.3291598137542695,2.379949609837038,0.7489682922167993,0.7293904237234865,-1.4738088829153635,1.8427929816199036,0.5266492066441197,0.05464387148820315,0.11742788548052135,1.5465832648947546,0.8913297007925256,-0.345491996131296,-1.5504414718229895,-2.0753664202793676,2.786251095594608,1.9398401479118765,-1.1055974297367333,-1.0382219873451308,-1.1231887550114117,-0.37362569412183266,0.19965405706701422,-1.2402071156202057,0.8594783562938145,0.08154796999511252,0.9122359008808992,1.146211774178241,-0.09915312132869913,-1.431738565943156,3.3049228266846895,0.7423744868346546,9.827584886167315,-1.1303734424183165,-0.9130560005311602,0.2975327138477336,-0.8471841596628563,0.2564760255475958,-0.4108995236488875,-1.475871163817614,-1.5473645409716386,1.874761319313726,0.7040585421792703,0.03138359692611176,-1.381608043668521,4.480568789592763,-1.4844588415536135,-1.586269077962127,-0.9148296843307847,-1.1661635417318597,-1.25887706290384,0.3108363253329413,-2.155638667985829,-1.7151552739546074,-0.14768639153403237,1.7077477922543287,1.824379928826909,-0.10611236448571455,3.4969541801991,1.8963105623716416,1.582980236329505,1.9889041491884978,1.9312065543354486,-1.642426930430364,-0.3477468764999722,-1.4931080185769818,-1.4305872616467306,-1.5601080326553627,1.9402626952141344,-0.7391257764743526,-1.4354577314569106,0.19985432957619836,-1.5288701590604092,-0.7077518808766629,-0.49132254994929,-1.9985037614189616,-0.8059526009438108,0.25778452745574143,-0.9964023711750296,0.4482139869683374,-1.5409914761743724,1.5740661254899289,1.8111665325614184,2.5624968480826196,-1.7723494081594486,-1.1013669444934786,-1.3183126443076003,-0.7063342204224794,0.7036977626548435,1.7384936297514988,-0.07202209663133582,1.4817617059611896,0.5313632748602518,-0.9218346047102551,-0.663629649308917,-1.2434393524260234,-1.132504890698464,-0.06869699144391779,0.7273868422829214,-1.9872658863272403,0.7289303228444497,-0.6608418509212046,-0.9148577242764783,1.867208047572833,-0.1468877977300745,0.10195938065061602,-0.8520910335295442,-1.2338856527730477,-0.9369817113498429,-1.208649926344731,-0.3603139040146492,1.4002734010375626,-0.7527723844589459,-0.5585658992263162,-1.971680262165662,-1.220101713871362,1.5639410759913692,2.6889048329489187,1.569642623727926,-0.6509743228820893,-1.1667246162809939,-1.4823363890805106,-1.8611824789729887,4.976779448508252,1.9176730293386952,-0.47200262364950324,-1.5765761705597725,0.03685945627659599,-0.11456497494671469,3.7200753997365337,-1.9115869841497786,0.6289313302181047,1.6635563198622336,-1.1172766960385676,-0.7215576497365617,-0.2631263098812149,1.5776753479310865,-1.401142760173767,0.44755580436962494,-1.712449533449492,-0.5439459208121731,4.40285262397934,0.17588240847652462,2.0086588865322557,1.4802925664738242,2.933751836618932,-0.889591139352622,-1.0510359011698165,3.5469383058234305,-1.9612788261860328,0.8454943276008381,4.5934783646570105,1.5942862718761845,1.659231689935658,-0.5600172203965779,1.4168081283409735,-0.27818787317989596,-0.043601176758839635,-0.3483263302618257,0.3843077982068889,0.21599402832569048,-1.0240566533339175,-0.4616088390579351,-1.376476743609817,-0.36859110162543,-1.6246089242070165,-1.3829497734310325,1.7552752621234504,-0.04717024485457228,2.31759337665845,-1.3496661797871419,1.7549780430343338,-0.4905587384826302,4.898294692446052,-0.8703192785158175,-1.4797445659811672,1.8054085050510067,-1.5640659313464773,2.9224633653551626,-1.6041082855104998,-1.5373683976768266,-0.644475008503529,-0.9915900444285769,1.9824400474053818,1.4966856872343497,0.6543735827415573,-1.074048259498676,1.8928930836780495],\"xaxis\":\"x\",\"y\":[-0.9384063589804176,-0.4461081441289825,-0.029749481230218346,-0.24468137267193404,-0.5487559807401177,-0.45317564948228994,-0.35544364241491333,-0.9429307323323801,-0.45732236142289007,-0.13150021521934954,5.968494533488056,0.32380756277412165,0.0863090025575976,-0.26899279374900364,0.12601257203698119,-0.24118070264775254,-0.3636757596311106,0.7633463769698787,-0.4546660989035255,-0.4253804242285807,0.8596080008992978,-0.27405324675521525,-0.46098199908236875,0.5870232844554467,-0.3622565851739859,1.041665448068511,-0.40168639687994323,-0.23680343527932332,-0.7060612243822423,-0.19534874668405103,0.3553193832984139,-0.7723803942980751,0.39852256259131463,1.4767244444672856,-0.6641248745181016,-0.7775107011952529,-0.5644822682662551,-0.62342131982,-0.43390622152630753,-0.3542182146712139,-0.32698385315273637,-0.34095576472121053,0.31043403952227133,-0.39575134674249834,-0.39038570793802474,3.0145147711457785,-0.6606653534824689,-0.24949984753208693,-0.3489121068669798,-0.3417748084448366,1.5978252125163321,5.009557510284233,-0.5485508820364265,1.0883082227558523,-0.3269742581796676,0.38880059609420786,-0.6854128859388008,-0.46019941779388274,-0.3032285816831196,-0.4575588916088648,-0.14606845991236014,-0.07335511982908129,-0.22009513348950263,0.0668427772188822,-0.4767843568517468,-0.5660399879051448,-0.3197028304060593,-0.5764479793127509,-0.26005526975095467,-0.409012080221322,0.17864753250579063,-0.2771158748641756,0.06171915348770958,-0.3643628303824861,-0.23914656974240045,-0.4717656843610393,0.5337085701736981,-0.6694027940647005,-0.5710143877117015,-0.11071760208555625,0.8666211213256249,-1.1018294559562283,-0.757070185419311,-0.6267631603990506,-0.29087575833266716,-0.05320357048371137,-0.4442804504035009,0.1938104373861681,2.914125515813994,-0.38120964605090696,3.32105449872031,0.06449390566755395,-0.1239881982565566,-0.20546603569556451,-0.4240257481176308,1.6542287366408404,0.542315906102204,-0.5836535643666831,-0.4437346575994888,-0.3674149406721474,0.611513723905341,0.9767005589692528,0.29323458775330785,-0.610410409614731,-0.7278324208667825,0.1818760359497094,-0.6454238623146499,-0.1365833926320984,0.2722390076898493,-0.3876311825829144,0.4957711337576817,-0.1606248003390759,0.045732490537818055,-0.18632476594680095,-1.10184261819034,0.7184611627972176,-0.36704140247895833,1.2952920949614553,0.8604950047932824,-1.6986170625134889,-0.5679200608430667,0.47615529218620056,0.5987488002245034,-0.2673924808638962,-0.6473901197171483,-0.4522543239117109,-0.2587222029600355,1.0898916885804295,-0.5961637029657533,-0.40298118309035824,0.030509039376043205,-0.34200752987456573,-0.7596981675477703,-0.2743002739469443,-0.34129045417709647,-0.5808699561940909,-0.0430766879793685,0.37290758351955194,-0.2539331809732795,-0.09944373823980443,0.13204721591044752,-0.8492307246888183,-0.49516356122155875,-0.7138148897124268,1.0827361864468543,-0.5174718159275018,-0.6190596825846055,-0.46368909083971666,-0.6539988807891821,2.9716019418959494,-0.08900850975767846,0.06665462960370451,-0.28223900923955775,-0.22485369521232648,-0.2797191874197183,-0.43444172961062566,0.7976618775123115,-0.45433561106905584,10.468921600880913,0.7947424943050694,-0.058683523148368,-0.34596245972717227,-0.2385807628476572,-0.38442953254629547,-0.9212503455033929,-0.3781599998018473,0.9168444350602795,-0.22793597667238893,-0.479981767410768,-0.6757688420831545,-0.7054924637394219,2.89527390074074,-0.2704100242313576,-0.3877577584190686,-0.061655922927606736,0.8706254633511664,-0.5074141268012563,-0.6864027669904974,-0.46263411189952486,-0.04012376916180046,-0.7635523331382222,-0.39731362889808136,-0.23302821221098827,0.014404325090739009,5.079941350532603,-0.2759046097288601,-0.2040209017266512,-0.15887416447850747,-0.4001923437928597,-0.29493303088512435,-0.8371322119920218,-0.3033072872313815,-0.7099524359938072,-0.3221550795410625,3.5623952125499865,-0.2894448157546561,0.046970443853238134,-0.49198034897519294,-0.013591594268386716,-0.7263984515723961,-0.24548299189779174,-0.2700292199714217,0.09335190372813297,-0.4386737926192847,0.9105000380810915,-0.479150416267319,-0.3730628374502649,-0.6576357367225365,-0.3143942841759703,-0.07407013539011428,0.6529408636366228,-0.4602727787432387,-0.44330313404869204,-0.025617671247758465,-0.3646484475004653,-0.2559866643882929,3.0482656776756247,-0.17543982637157804,0.8902087724701061,-0.49680051857708213,-0.2798984908367437,-0.498405919335524,0.6294370926450443,-0.4988260973546014,-0.11391742899825548,0.64929007429019,0.12397870760502687,-0.8090500793981937,-0.8540752700762805,-0.031416310295226714,-0.4302361736403169,2.2326716859533735,-1.1080457152383765,-0.10597413499302559,-0.6864967830963193,-0.4633091142198083,0.5400054480837082,-1.2583249244754895,-0.8878213451839746,-0.4147210485558569,-0.43686584638084675,-0.6398682403108872,-0.045023507705769,-0.4987957008103499,-0.7922515786902509,-1.0019797517797855,-0.5146090670477184,-0.6065564519212158,0.004955123143455418,-0.023829665772017377,-0.34662164344670915,-0.27048343906565864,-0.2009284102667636,0.22354921687883403,-0.5148380795132734,-0.6206784609411324,3.106764562970328,-0.3319886282075838,-0.5139822804897936,-1.0484830476529559,-0.4380113803273133,0.0163622358307934,-0.32266657051198927,0.9007539968641564,-0.3246843887294251,-0.589406189635358,-0.32797279945703145,1.4576200536160524,-0.4170929465250803,-0.6890542081513537,-0.6637263287276117,-0.41106664373885093,-0.2073478553664859,0.2705161752065606,0.5104271698790518],\"yaxis\":\"y\",\"type\":\"scatter\"}],                        {\"template\":{\"data\":{\"bar\":[{\"error_x\":{\"color\":\"#2a3f5f\"},\"error_y\":{\"color\":\"#2a3f5f\"},\"marker\":{\"line\":{\"color\":\"#E5ECF6\",\"width\":0.5},\"pattern\":{\"fillmode\":\"overlay\",\"size\":10,\"solidity\":0.2}},\"type\":\"bar\"}],\"barpolar\":[{\"marker\":{\"line\":{\"color\":\"#E5ECF6\",\"width\":0.5},\"pattern\":{\"fillmode\":\"overlay\",\"size\":10,\"solidity\":0.2}},\"type\":\"barpolar\"}],\"carpet\":[{\"aaxis\":{\"endlinecolor\":\"#2a3f5f\",\"gridcolor\":\"white\",\"linecolor\":\"white\",\"minorgridcolor\":\"white\",\"startlinecolor\":\"#2a3f5f\"},\"baxis\":{\"endlinecolor\":\"#2a3f5f\",\"gridcolor\":\"white\",\"linecolor\":\"white\",\"minorgridcolor\":\"white\",\"startlinecolor\":\"#2a3f5f\"},\"type\":\"carpet\"}],\"choropleth\":[{\"colorbar\":{\"outlinewidth\":0,\"ticks\":\"\"},\"type\":\"choropleth\"}],\"contour\":[{\"colorbar\":{\"outlinewidth\":0,\"ticks\":\"\"},\"colorscale\":[[0.0,\"#0d0887\"],[0.1111111111111111,\"#46039f\"],[0.2222222222222222,\"#7201a8\"],[0.3333333333333333,\"#9c179e\"],[0.4444444444444444,\"#bd3786\"],[0.5555555555555556,\"#d8576b\"],[0.6666666666666666,\"#ed7953\"],[0.7777777777777778,\"#fb9f3a\"],[0.8888888888888888,\"#fdca26\"],[1.0,\"#f0f921\"]],\"type\":\"contour\"}],\"contourcarpet\":[{\"colorbar\":{\"outlinewidth\":0,\"ticks\":\"\"},\"type\":\"contourcarpet\"}],\"heatmap\":[{\"colorbar\":{\"outlinewidth\":0,\"ticks\":\"\"},\"colorscale\":[[0.0,\"#0d0887\"],[0.1111111111111111,\"#46039f\"],[0.2222222222222222,\"#7201a8\"],[0.3333333333333333,\"#9c179e\"],[0.4444444444444444,\"#bd3786\"],[0.5555555555555556,\"#d8576b\"],[0.6666666666666666,\"#ed7953\"],[0.7777777777777778,\"#fb9f3a\"],[0.8888888888888888,\"#fdca26\"],[1.0,\"#f0f921\"]],\"type\":\"heatmap\"}],\"heatmapgl\":[{\"colorbar\":{\"outlinewidth\":0,\"ticks\":\"\"},\"colorscale\":[[0.0,\"#0d0887\"],[0.1111111111111111,\"#46039f\"],[0.2222222222222222,\"#7201a8\"],[0.3333333333333333,\"#9c179e\"],[0.4444444444444444,\"#bd3786\"],[0.5555555555555556,\"#d8576b\"],[0.6666666666666666,\"#ed7953\"],[0.7777777777777778,\"#fb9f3a\"],[0.8888888888888888,\"#fdca26\"],[1.0,\"#f0f921\"]],\"type\":\"heatmapgl\"}],\"histogram\":[{\"marker\":{\"pattern\":{\"fillmode\":\"overlay\",\"size\":10,\"solidity\":0.2}},\"type\":\"histogram\"}],\"histogram2d\":[{\"colorbar\":{\"outlinewidth\":0,\"ticks\":\"\"},\"colorscale\":[[0.0,\"#0d0887\"],[0.1111111111111111,\"#46039f\"],[0.2222222222222222,\"#7201a8\"],[0.3333333333333333,\"#9c179e\"],[0.4444444444444444,\"#bd3786\"],[0.5555555555555556,\"#d8576b\"],[0.6666666666666666,\"#ed7953\"],[0.7777777777777778,\"#fb9f3a\"],[0.8888888888888888,\"#fdca26\"],[1.0,\"#f0f921\"]],\"type\":\"histogram2d\"}],\"histogram2dcontour\":[{\"colorbar\":{\"outlinewidth\":0,\"ticks\":\"\"},\"colorscale\":[[0.0,\"#0d0887\"],[0.1111111111111111,\"#46039f\"],[0.2222222222222222,\"#7201a8\"],[0.3333333333333333,\"#9c179e\"],[0.4444444444444444,\"#bd3786\"],[0.5555555555555556,\"#d8576b\"],[0.6666666666666666,\"#ed7953\"],[0.7777777777777778,\"#fb9f3a\"],[0.8888888888888888,\"#fdca26\"],[1.0,\"#f0f921\"]],\"type\":\"histogram2dcontour\"}],\"mesh3d\":[{\"colorbar\":{\"outlinewidth\":0,\"ticks\":\"\"},\"type\":\"mesh3d\"}],\"parcoords\":[{\"line\":{\"colorbar\":{\"outlinewidth\":0,\"ticks\":\"\"}},\"type\":\"parcoords\"}],\"pie\":[{\"automargin\":true,\"type\":\"pie\"}],\"scatter\":[{\"marker\":{\"colorbar\":{\"outlinewidth\":0,\"ticks\":\"\"}},\"type\":\"scatter\"}],\"scatter3d\":[{\"line\":{\"colorbar\":{\"outlinewidth\":0,\"ticks\":\"\"}},\"marker\":{\"colorbar\":{\"outlinewidth\":0,\"ticks\":\"\"}},\"type\":\"scatter3d\"}],\"scattercarpet\":[{\"marker\":{\"colorbar\":{\"outlinewidth\":0,\"ticks\":\"\"}},\"type\":\"scattercarpet\"}],\"scattergeo\":[{\"marker\":{\"colorbar\":{\"outlinewidth\":0,\"ticks\":\"\"}},\"type\":\"scattergeo\"}],\"scattergl\":[{\"marker\":{\"colorbar\":{\"outlinewidth\":0,\"ticks\":\"\"}},\"type\":\"scattergl\"}],\"scattermapbox\":[{\"marker\":{\"colorbar\":{\"outlinewidth\":0,\"ticks\":\"\"}},\"type\":\"scattermapbox\"}],\"scatterpolar\":[{\"marker\":{\"colorbar\":{\"outlinewidth\":0,\"ticks\":\"\"}},\"type\":\"scatterpolar\"}],\"scatterpolargl\":[{\"marker\":{\"colorbar\":{\"outlinewidth\":0,\"ticks\":\"\"}},\"type\":\"scatterpolargl\"}],\"scatterternary\":[{\"marker\":{\"colorbar\":{\"outlinewidth\":0,\"ticks\":\"\"}},\"type\":\"scatterternary\"}],\"surface\":[{\"colorbar\":{\"outlinewidth\":0,\"ticks\":\"\"},\"colorscale\":[[0.0,\"#0d0887\"],[0.1111111111111111,\"#46039f\"],[0.2222222222222222,\"#7201a8\"],[0.3333333333333333,\"#9c179e\"],[0.4444444444444444,\"#bd3786\"],[0.5555555555555556,\"#d8576b\"],[0.6666666666666666,\"#ed7953\"],[0.7777777777777778,\"#fb9f3a\"],[0.8888888888888888,\"#fdca26\"],[1.0,\"#f0f921\"]],\"type\":\"surface\"}],\"table\":[{\"cells\":{\"fill\":{\"color\":\"#EBF0F8\"},\"line\":{\"color\":\"white\"}},\"header\":{\"fill\":{\"color\":\"#C8D4E3\"},\"line\":{\"color\":\"white\"}},\"type\":\"table\"}]},\"layout\":{\"annotationdefaults\":{\"arrowcolor\":\"#2a3f5f\",\"arrowhead\":0,\"arrowwidth\":1},\"autotypenumbers\":\"strict\",\"coloraxis\":{\"colorbar\":{\"outlinewidth\":0,\"ticks\":\"\"}},\"colorscale\":{\"diverging\":[[0,\"#8e0152\"],[0.1,\"#c51b7d\"],[0.2,\"#de77ae\"],[0.3,\"#f1b6da\"],[0.4,\"#fde0ef\"],[0.5,\"#f7f7f7\"],[0.6,\"#e6f5d0\"],[0.7,\"#b8e186\"],[0.8,\"#7fbc41\"],[0.9,\"#4d9221\"],[1,\"#276419\"]],\"sequential\":[[0.0,\"#0d0887\"],[0.1111111111111111,\"#46039f\"],[0.2222222222222222,\"#7201a8\"],[0.3333333333333333,\"#9c179e\"],[0.4444444444444444,\"#bd3786\"],[0.5555555555555556,\"#d8576b\"],[0.6666666666666666,\"#ed7953\"],[0.7777777777777778,\"#fb9f3a\"],[0.8888888888888888,\"#fdca26\"],[1.0,\"#f0f921\"]],\"sequentialminus\":[[0.0,\"#0d0887\"],[0.1111111111111111,\"#46039f\"],[0.2222222222222222,\"#7201a8\"],[0.3333333333333333,\"#9c179e\"],[0.4444444444444444,\"#bd3786\"],[0.5555555555555556,\"#d8576b\"],[0.6666666666666666,\"#ed7953\"],[0.7777777777777778,\"#fb9f3a\"],[0.8888888888888888,\"#fdca26\"],[1.0,\"#f0f921\"]]},\"colorway\":[\"#636efa\",\"#EF553B\",\"#00cc96\",\"#ab63fa\",\"#FFA15A\",\"#19d3f3\",\"#FF6692\",\"#B6E880\",\"#FF97FF\",\"#FECB52\"],\"font\":{\"color\":\"#2a3f5f\"},\"geo\":{\"bgcolor\":\"white\",\"lakecolor\":\"white\",\"landcolor\":\"#E5ECF6\",\"showlakes\":true,\"showland\":true,\"subunitcolor\":\"white\"},\"hoverlabel\":{\"align\":\"left\"},\"hovermode\":\"closest\",\"mapbox\":{\"style\":\"light\"},\"paper_bgcolor\":\"white\",\"plot_bgcolor\":\"#E5ECF6\",\"polar\":{\"angularaxis\":{\"gridcolor\":\"white\",\"linecolor\":\"white\",\"ticks\":\"\"},\"bgcolor\":\"#E5ECF6\",\"radialaxis\":{\"gridcolor\":\"white\",\"linecolor\":\"white\",\"ticks\":\"\"}},\"scene\":{\"xaxis\":{\"backgroundcolor\":\"#E5ECF6\",\"gridcolor\":\"white\",\"gridwidth\":2,\"linecolor\":\"white\",\"showbackground\":true,\"ticks\":\"\",\"zerolinecolor\":\"white\"},\"yaxis\":{\"backgroundcolor\":\"#E5ECF6\",\"gridcolor\":\"white\",\"gridwidth\":2,\"linecolor\":\"white\",\"showbackground\":true,\"ticks\":\"\",\"zerolinecolor\":\"white\"},\"zaxis\":{\"backgroundcolor\":\"#E5ECF6\",\"gridcolor\":\"white\",\"gridwidth\":2,\"linecolor\":\"white\",\"showbackground\":true,\"ticks\":\"\",\"zerolinecolor\":\"white\"}},\"shapedefaults\":{\"line\":{\"color\":\"#2a3f5f\"}},\"ternary\":{\"aaxis\":{\"gridcolor\":\"white\",\"linecolor\":\"white\",\"ticks\":\"\"},\"baxis\":{\"gridcolor\":\"white\",\"linecolor\":\"white\",\"ticks\":\"\"},\"bgcolor\":\"#E5ECF6\",\"caxis\":{\"gridcolor\":\"white\",\"linecolor\":\"white\",\"ticks\":\"\"}},\"title\":{\"x\":0.05},\"xaxis\":{\"automargin\":true,\"gridcolor\":\"white\",\"linecolor\":\"white\",\"ticks\":\"\",\"title\":{\"standoff\":15},\"zerolinecolor\":\"white\",\"zerolinewidth\":2},\"yaxis\":{\"automargin\":true,\"gridcolor\":\"white\",\"linecolor\":\"white\",\"ticks\":\"\",\"title\":{\"standoff\":15},\"zerolinecolor\":\"white\",\"zerolinewidth\":2}}},\"xaxis\":{\"anchor\":\"y\",\"domain\":[0.0,1.0],\"title\":{\"text\":\"x\"}},\"yaxis\":{\"anchor\":\"x\",\"domain\":[0.0,1.0],\"title\":{\"text\":\"y\"}},\"coloraxis\":{\"colorbar\":{\"title\":{\"text\":\"color\"}},\"colorscale\":[[0.0,\"#0d0887\"],[0.1111111111111111,\"#46039f\"],[0.2222222222222222,\"#7201a8\"],[0.3333333333333333,\"#9c179e\"],[0.4444444444444444,\"#bd3786\"],[0.5555555555555556,\"#d8576b\"],[0.6666666666666666,\"#ed7953\"],[0.7777777777777778,\"#fb9f3a\"],[0.8888888888888888,\"#fdca26\"],[1.0,\"#f0f921\"]]},\"legend\":{\"tracegroupgap\":0},\"margin\":{\"t\":60}},                        {\"responsive\": true}                    ).then(function(){\n",
              "                            \n",
              "var gd = document.getElementById('659f5732-eb53-4b51-aed0-f7b1e8f7b66a');\n",
              "var x = new MutationObserver(function (mutations, observer) {{\n",
              "        var display = window.getComputedStyle(gd).display;\n",
              "        if (!display || display === 'none') {{\n",
              "            console.log([gd, 'removed!']);\n",
              "            Plotly.purge(gd);\n",
              "            observer.disconnect();\n",
              "        }}\n",
              "}});\n",
              "\n",
              "// Listen for the removal of the full notebook cells\n",
              "var notebookContainer = gd.closest('#notebook-container');\n",
              "if (notebookContainer) {{\n",
              "    x.observe(notebookContainer, {childList: true});\n",
              "}}\n",
              "\n",
              "// Listen for the clearing of the current output cell\n",
              "var outputEl = gd.closest('.output');\n",
              "if (outputEl) {{\n",
              "    x.observe(outputEl, {childList: true});\n",
              "}}\n",
              "\n",
              "                        })                };                            </script>        </div>\n",
              "</body>\n",
              "</html>"
            ]
          },
          "metadata": {}
        }
      ]
    }
  ]
}